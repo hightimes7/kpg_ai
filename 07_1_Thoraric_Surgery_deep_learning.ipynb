{
 "cells": [
  {
   "cell_type": "markdown",
   "id": "675c7c2e",
   "metadata": {},
   "source": [
    "### 폐암 수술 환자 생존율 예측 딥러닝"
   ]
  },
  {
   "cell_type": "code",
   "execution_count": 1,
   "id": "d5b047f4",
   "metadata": {},
   "outputs": [],
   "source": [
    "from tensorflow.keras.models import Sequential\n",
    "from tensorflow.keras.layers import Dense"
   ]
  },
  {
   "cell_type": "code",
   "execution_count": 2,
   "id": "017c9775",
   "metadata": {},
   "outputs": [],
   "source": [
    "import numpy as np\n",
    "import tensorflow as tf"
   ]
  },
  {
   "cell_type": "code",
   "execution_count": 3,
   "id": "1da1a305",
   "metadata": {},
   "outputs": [],
   "source": [
    "np.random.seed(3)\n",
    "tf.random.set_seed(3)"
   ]
  },
  {
   "cell_type": "code",
   "execution_count": 4,
   "id": "0b7dba67",
   "metadata": {},
   "outputs": [
    {
     "data": {
      "text/plain": [
       "array([[293.  ,   1.  ,   3.8 , ...,   0.  ,  62.  ,   0.  ],\n",
       "       [  1.  ,   2.  ,   2.88, ...,   0.  ,  60.  ,   0.  ],\n",
       "       [  8.  ,   2.  ,   3.19, ...,   0.  ,  66.  ,   1.  ],\n",
       "       ...,\n",
       "       [406.  ,   6.  ,   5.36, ...,   0.  ,  62.  ,   0.  ],\n",
       "       [ 25.  ,   8.  ,   4.32, ...,   0.  ,  58.  ,   1.  ],\n",
       "       [447.  ,   8.  ,   5.2 , ...,   0.  ,  49.  ,   0.  ]])"
      ]
     },
     "execution_count": 4,
     "metadata": {},
     "output_type": "execute_result"
    }
   ],
   "source": [
    "Data_set = np.loadtxt('dataset/ThoraricSurgery.csv', delimiter=',')\n",
    "Data_set"
   ]
  },
  {
   "cell_type": "code",
   "execution_count": 5,
   "id": "172d563c",
   "metadata": {},
   "outputs": [],
   "source": [
    "X = Data_set[:,0:17]\n",
    "Y = Data_set[:, 17]"
   ]
  },
  {
   "cell_type": "code",
   "execution_count": 6,
   "id": "54b64b0e",
   "metadata": {},
   "outputs": [
    {
     "data": {
      "text/plain": [
       "array([[293.  ,   1.  ,   3.8 , ...,   1.  ,   0.  ,  62.  ],\n",
       "       [  1.  ,   2.  ,   2.88, ...,   1.  ,   0.  ,  60.  ],\n",
       "       [  8.  ,   2.  ,   3.19, ...,   1.  ,   0.  ,  66.  ],\n",
       "       ...,\n",
       "       [406.  ,   6.  ,   5.36, ...,   0.  ,   0.  ,  62.  ],\n",
       "       [ 25.  ,   8.  ,   4.32, ...,   0.  ,   0.  ,  58.  ],\n",
       "       [447.  ,   8.  ,   5.2 , ...,   0.  ,   0.  ,  49.  ]])"
      ]
     },
     "execution_count": 6,
     "metadata": {},
     "output_type": "execute_result"
    }
   ],
   "source": [
    "X"
   ]
  },
  {
   "cell_type": "code",
   "execution_count": 7,
   "id": "7c4ccf4c",
   "metadata": {
    "scrolled": true
   },
   "outputs": [
    {
     "data": {
      "text/plain": [
       "array([0., 0., 1., 1., 0., 0., 0., 1., 0., 0., 0., 0., 0., 0., 1., 0., 0.,\n",
       "       0., 0., 0., 0., 0., 0., 0., 0., 0., 1., 0., 0., 1., 1., 0., 0., 0.,\n",
       "       0., 0., 1., 0., 0., 1., 0., 0., 0., 1., 0., 1., 0., 0., 1., 0., 0.,\n",
       "       0., 0., 0., 0., 0., 1., 0., 1., 0., 0., 0., 0., 0., 0., 0., 0., 0.,\n",
       "       0., 0., 0., 0., 1., 0., 1., 0., 0., 0., 0., 0., 0., 0., 0., 0., 0.,\n",
       "       0., 1., 0., 0., 0., 0., 0., 0., 0., 1., 0., 1., 0., 0., 0., 0., 0.,\n",
       "       0., 0., 0., 0., 0., 0., 1., 0., 1., 0., 0., 0., 0., 0., 0., 0., 0.,\n",
       "       0., 0., 0., 0., 1., 0., 0., 0., 0., 1., 0., 0., 0., 0., 0., 0., 0.,\n",
       "       0., 0., 0., 0., 0., 0., 0., 0., 0., 0., 0., 1., 0., 0., 0., 0., 1.,\n",
       "       0., 0., 0., 0., 0., 0., 0., 0., 0., 0., 1., 1., 0., 0., 0., 0., 0.,\n",
       "       0., 0., 0., 0., 0., 0., 0., 0., 1., 0., 1., 0., 1., 0., 0., 0., 0.,\n",
       "       0., 0., 0., 0., 0., 0., 0., 0., 1., 0., 0., 1., 1., 0., 0., 0., 0.,\n",
       "       0., 0., 0., 0., 0., 0., 1., 0., 1., 0., 0., 0., 0., 0., 0., 0., 0.,\n",
       "       1., 0., 1., 0., 0., 0., 0., 0., 0., 0., 1., 0., 0., 0., 0., 0., 0.,\n",
       "       0., 0., 1., 0., 0., 0., 0., 0., 0., 0., 0., 1., 0., 0., 0., 0., 0.,\n",
       "       0., 1., 0., 1., 0., 0., 0., 0., 0., 0., 0., 0., 0., 0., 0., 0., 0.,\n",
       "       0., 0., 0., 0., 0., 1., 1., 0., 0., 0., 0., 1., 0., 0., 1., 0., 0.,\n",
       "       0., 0., 1., 0., 0., 0., 0., 0., 0., 1., 0., 0., 0., 0., 0., 0., 0.,\n",
       "       0., 0., 0., 1., 0., 0., 0., 0., 1., 0., 0., 0., 0., 0., 0., 1., 0.,\n",
       "       0., 0., 1., 0., 0., 0., 0., 0., 0., 0., 0., 0., 0., 0., 0., 0., 0.,\n",
       "       0., 0., 0., 0., 0., 1., 0., 0., 0., 0., 0., 0., 0., 0., 0., 0., 0.,\n",
       "       0., 0., 0., 0., 0., 0., 0., 0., 0., 0., 0., 1., 0., 0., 0., 0., 0.,\n",
       "       0., 0., 0., 0., 0., 0., 0., 0., 0., 0., 0., 0., 1., 0., 0., 0., 0.,\n",
       "       0., 0., 0., 0., 0., 0., 0., 0., 0., 0., 0., 0., 0., 0., 0., 1., 0.,\n",
       "       0., 1., 0., 1., 0., 0., 0., 1., 1., 0., 0., 0., 0., 0., 0., 0., 0.,\n",
       "       0., 0., 0., 0., 0., 0., 0., 0., 0., 0., 0., 0., 0., 0., 0., 0., 0.,\n",
       "       0., 1., 0., 0., 0., 0., 1., 0., 0., 1., 1., 0., 0., 1., 1., 0., 1.,\n",
       "       0., 0., 1., 1., 0., 0., 0., 0., 0., 1., 0.])"
      ]
     },
     "execution_count": 7,
     "metadata": {},
     "output_type": "execute_result"
    }
   ],
   "source": [
    "Y"
   ]
  },
  {
   "cell_type": "code",
   "execution_count": 8,
   "id": "86d9268b",
   "metadata": {},
   "outputs": [
    {
     "name": "stdout",
     "output_type": "stream",
     "text": [
      "X shape: (470, 17)\n",
      "Y shape: (470,)\n"
     ]
    }
   ],
   "source": [
    "print('X shape:',np.shape(X))\n",
    "print('Y shape:',np.shape(Y))"
   ]
  },
  {
   "cell_type": "code",
   "execution_count": 9,
   "id": "5ce342a4",
   "metadata": {},
   "outputs": [],
   "source": [
    "model = Sequential()\n",
    "model.add(Dense(30, input_dim=17, activation='relu'))  # input_dim : X 데이터 17가지 노드 17개로 입력\n",
    "model.add(Dense(1, activation='sigmoid'))"
   ]
  },
  {
   "cell_type": "code",
   "execution_count": 10,
   "id": "33363f07",
   "metadata": {},
   "outputs": [
    {
     "name": "stdout",
     "output_type": "stream",
     "text": [
      "Train on 470 samples\n",
      "Epoch 1/100\n",
      "470/470 [==============================] - 1s 2ms/sample - loss: 0.6902 - accuracy: 0.8106\n",
      "Epoch 2/100\n",
      "470/470 [==============================] - 0s 110us/sample - loss: 0.4568 - accuracy: 0.8511\n",
      "Epoch 3/100\n",
      "470/470 [==============================] - 0s 82us/sample - loss: 0.4714 - accuracy: 0.8447\n",
      "Epoch 4/100\n",
      "470/470 [==============================] - 0s 106us/sample - loss: 0.4609 - accuracy: 0.8447\n",
      "Epoch 5/100\n",
      "470/470 [==============================] - 0s 108us/sample - loss: 0.4535 - accuracy: 0.8511\n",
      "Epoch 6/100\n",
      "470/470 [==============================] - 0s 147us/sample - loss: 0.4576 - accuracy: 0.8532\n",
      "Epoch 7/100\n",
      "470/470 [==============================] - 0s 171us/sample - loss: 0.4410 - accuracy: 0.8511\n",
      "Epoch 8/100\n",
      "470/470 [==============================] - 0s 156us/sample - loss: 0.4306 - accuracy: 0.8511\n",
      "Epoch 9/100\n",
      "470/470 [==============================] - 0s 126us/sample - loss: 0.4469 - accuracy: 0.8511\n",
      "Epoch 10/100\n",
      "470/470 [==============================] - 0s 154us/sample - loss: 0.4728 - accuracy: 0.8511\n",
      "Epoch 11/100\n",
      "470/470 [==============================] - 0s 156us/sample - loss: 0.4635 - accuracy: 0.8447\n",
      "Epoch 12/100\n",
      "470/470 [==============================] - 0s 199us/sample - loss: 0.4244 - accuracy: 0.8489\n",
      "Epoch 13/100\n",
      "470/470 [==============================] - 0s 196us/sample - loss: 0.4443 - accuracy: 0.8511\n",
      "Epoch 14/100\n",
      "470/470 [==============================] - 0s 189us/sample - loss: 0.4715 - accuracy: 0.8319\n",
      "Epoch 15/100\n",
      "470/470 [==============================] - 0s 172us/sample - loss: 0.4771 - accuracy: 0.8383\n",
      "Epoch 16/100\n",
      "470/470 [==============================] - 0s 197us/sample - loss: 0.4497 - accuracy: 0.8532\n",
      "Epoch 17/100\n",
      "470/470 [==============================] - 0s 183us/sample - loss: 0.4236 - accuracy: 0.8511\n",
      "Epoch 18/100\n",
      "470/470 [==============================] - 0s 140us/sample - loss: 0.4229 - accuracy: 0.8468\n",
      "Epoch 19/100\n",
      "470/470 [==============================] - 0s 129us/sample - loss: 0.4997 - accuracy: 0.8191\n",
      "Epoch 20/100\n",
      "470/470 [==============================] - 0s 140us/sample - loss: 0.4174 - accuracy: 0.8511\n",
      "Epoch 21/100\n",
      "470/470 [==============================] - 0s 162us/sample - loss: 0.4461 - accuracy: 0.8532\n",
      "Epoch 22/100\n",
      "470/470 [==============================] - 0s 165us/sample - loss: 0.4445 - accuracy: 0.8426\n",
      "Epoch 23/100\n",
      "470/470 [==============================] - 0s 173us/sample - loss: 0.4229 - accuracy: 0.8489\n",
      "Epoch 24/100\n",
      "470/470 [==============================] - 0s 196us/sample - loss: 0.4149 - accuracy: 0.8511\n",
      "Epoch 25/100\n",
      "470/470 [==============================] - 0s 168us/sample - loss: 0.4371 - accuracy: 0.8511\n",
      "Epoch 26/100\n",
      "470/470 [==============================] - 0s 176us/sample - loss: 0.4285 - accuracy: 0.8511\n",
      "Epoch 27/100\n",
      "470/470 [==============================] - 0s 196us/sample - loss: 0.4238 - accuracy: 0.8532\n",
      "Epoch 28/100\n",
      "470/470 [==============================] - 0s 194us/sample - loss: 0.4098 - accuracy: 0.8532\n",
      "Epoch 29/100\n",
      "470/470 [==============================] - 0s 189us/sample - loss: 0.4106 - accuracy: 0.8532\n",
      "Epoch 30/100\n",
      "470/470 [==============================] - 0s 140us/sample - loss: 0.4068 - accuracy: 0.8489\n",
      "Epoch 31/100\n",
      "470/470 [==============================] - 0s 117us/sample - loss: 0.4238 - accuracy: 0.8447\n",
      "Epoch 32/100\n",
      "470/470 [==============================] - 0s 136us/sample - loss: 0.4085 - accuracy: 0.8532\n",
      "Epoch 33/100\n",
      "470/470 [==============================] - 0s 169us/sample - loss: 0.4073 - accuracy: 0.8511\n",
      "Epoch 34/100\n",
      "470/470 [==============================] - 0s 173us/sample - loss: 0.4291 - accuracy: 0.8426\n",
      "Epoch 35/100\n",
      "470/470 [==============================] - 0s 155us/sample - loss: 0.4249 - accuracy: 0.8532\n",
      "Epoch 36/100\n",
      "470/470 [==============================] - 0s 182us/sample - loss: 0.4544 - accuracy: 0.8468\n",
      "Epoch 37/100\n",
      "470/470 [==============================] - 0s 210us/sample - loss: 0.5080 - accuracy: 0.8319\n",
      "Epoch 38/100\n",
      "470/470 [==============================] - 0s 206us/sample - loss: 0.4199 - accuracy: 0.8553\n",
      "Epoch 39/100\n",
      "470/470 [==============================] - 0s 200us/sample - loss: 0.4501 - accuracy: 0.8511\n",
      "Epoch 40/100\n",
      "470/470 [==============================] - 0s 172us/sample - loss: 0.4215 - accuracy: 0.8553\n",
      "Epoch 41/100\n",
      "470/470 [==============================] - 0s 144us/sample - loss: 0.4334 - accuracy: 0.8532\n",
      "Epoch 42/100\n",
      "470/470 [==============================] - 0s 197us/sample - loss: 0.4312 - accuracy: 0.8426\n",
      "Epoch 43/100\n",
      "470/470 [==============================] - 0s 168us/sample - loss: 0.4203 - accuracy: 0.8447\n",
      "Epoch 44/100\n",
      "470/470 [==============================] - 0s 159us/sample - loss: 0.4127 - accuracy: 0.8553\n",
      "Epoch 45/100\n",
      "470/470 [==============================] - 0s 172us/sample - loss: 0.4014 - accuracy: 0.8532\n",
      "Epoch 46/100\n",
      "470/470 [==============================] - 0s 149us/sample - loss: 0.3975 - accuracy: 0.8574\n",
      "Epoch 47/100\n",
      "470/470 [==============================] - 0s 104us/sample - loss: 0.3931 - accuracy: 0.8532\n",
      "Epoch 48/100\n",
      "470/470 [==============================] - 0s 117us/sample - loss: 0.3989 - accuracy: 0.8532\n",
      "Epoch 49/100\n",
      "470/470 [==============================] - 0s 151us/sample - loss: 0.4041 - accuracy: 0.8447\n",
      "Epoch 50/100\n",
      "470/470 [==============================] - 0s 185us/sample - loss: 0.4228 - accuracy: 0.8447\n",
      "Epoch 51/100\n",
      "470/470 [==============================] - 0s 157us/sample - loss: 0.4085 - accuracy: 0.8553\n",
      "Epoch 52/100\n",
      "470/470 [==============================] - 0s 151us/sample - loss: 0.3976 - accuracy: 0.8532\n",
      "Epoch 53/100\n",
      "470/470 [==============================] - 0s 180us/sample - loss: 0.4090 - accuracy: 0.8553\n",
      "Epoch 54/100\n",
      "470/470 [==============================] - 0s 175us/sample - loss: 0.4367 - accuracy: 0.8489\n",
      "Epoch 55/100\n",
      "470/470 [==============================] - 0s 180us/sample - loss: 0.4172 - accuracy: 0.8574\n",
      "Epoch 56/100\n",
      "470/470 [==============================] - 0s 162us/sample - loss: 0.4055 - accuracy: 0.8574\n",
      "Epoch 57/100\n",
      "470/470 [==============================] - 0s 121us/sample - loss: 0.4138 - accuracy: 0.8511\n",
      "Epoch 58/100\n",
      "470/470 [==============================] - 0s 108us/sample - loss: 0.4301 - accuracy: 0.8511\n",
      "Epoch 59/100\n",
      "470/470 [==============================] - 0s 109us/sample - loss: 0.4176 - accuracy: 0.8489\n",
      "Epoch 60/100\n",
      "470/470 [==============================] - 0s 151us/sample - loss: 0.4210 - accuracy: 0.8447\n",
      "Epoch 61/100\n",
      "470/470 [==============================] - 0s 178us/sample - loss: 0.3977 - accuracy: 0.8532\n",
      "Epoch 62/100\n",
      "470/470 [==============================] - 0s 168us/sample - loss: 0.3898 - accuracy: 0.8532\n",
      "Epoch 63/100\n",
      "470/470 [==============================] - 0s 174us/sample - loss: 0.4017 - accuracy: 0.8511\n",
      "Epoch 64/100\n",
      "470/470 [==============================] - 0s 152us/sample - loss: 0.4099 - accuracy: 0.8511\n",
      "Epoch 65/100\n",
      "470/470 [==============================] - 0s 184us/sample - loss: 0.4029 - accuracy: 0.8511\n",
      "Epoch 66/100\n",
      "470/470 [==============================] - 0s 194us/sample - loss: 0.3930 - accuracy: 0.8553\n",
      "Epoch 67/100\n",
      "470/470 [==============================] - 0s 174us/sample - loss: 0.4020 - accuracy: 0.8532\n",
      "Epoch 68/100\n",
      "470/470 [==============================] - 0s 184us/sample - loss: 0.4005 - accuracy: 0.8447\n",
      "Epoch 69/100\n",
      "470/470 [==============================] - 0s 168us/sample - loss: 0.4109 - accuracy: 0.8489\n",
      "Epoch 70/100\n",
      "470/470 [==============================] - 0s 161us/sample - loss: 0.3946 - accuracy: 0.8532\n",
      "Epoch 71/100\n",
      "470/470 [==============================] - 0s 182us/sample - loss: 0.4057 - accuracy: 0.8553\n",
      "Epoch 72/100\n",
      "470/470 [==============================] - 0s 155us/sample - loss: 0.4299 - accuracy: 0.8404\n",
      "Epoch 73/100\n",
      "470/470 [==============================] - 0s 158us/sample - loss: 0.3950 - accuracy: 0.8553\n",
      "Epoch 74/100\n",
      "470/470 [==============================] - 0s 164us/sample - loss: 0.3994 - accuracy: 0.8574\n",
      "Epoch 75/100\n",
      "470/470 [==============================] - 0s 183us/sample - loss: 0.3996 - accuracy: 0.8553\n",
      "Epoch 76/100\n",
      "470/470 [==============================] - 0s 205us/sample - loss: 0.3951 - accuracy: 0.8532\n",
      "Epoch 77/100\n",
      "470/470 [==============================] - 0s 189us/sample - loss: 0.3807 - accuracy: 0.8596\n",
      "Epoch 78/100\n",
      "470/470 [==============================] - 0s 138us/sample - loss: 0.4029 - accuracy: 0.8511\n",
      "Epoch 79/100\n",
      "470/470 [==============================] - 0s 121us/sample - loss: 0.4004 - accuracy: 0.8426\n",
      "Epoch 80/100\n",
      "470/470 [==============================] - 0s 128us/sample - loss: 0.4070 - accuracy: 0.8468\n",
      "Epoch 81/100\n",
      "470/470 [==============================] - 0s 184us/sample - loss: 0.3829 - accuracy: 0.8596\n",
      "Epoch 82/100\n",
      "470/470 [==============================] - 0s 162us/sample - loss: 0.3990 - accuracy: 0.8489\n",
      "Epoch 83/100\n",
      "470/470 [==============================] - 0s 188us/sample - loss: 0.4090 - accuracy: 0.8532\n",
      "Epoch 84/100\n",
      "470/470 [==============================] - 0s 198us/sample - loss: 0.4089 - accuracy: 0.8362\n",
      "Epoch 85/100\n",
      "470/470 [==============================] - 0s 163us/sample - loss: 0.4268 - accuracy: 0.8404\n",
      "Epoch 86/100\n",
      "470/470 [==============================] - 0s 173us/sample - loss: 0.3952 - accuracy: 0.8511\n",
      "Epoch 87/100\n",
      "470/470 [==============================] - 0s 197us/sample - loss: 0.3920 - accuracy: 0.8532\n",
      "Epoch 88/100\n",
      "470/470 [==============================] - 0s 203us/sample - loss: 0.3843 - accuracy: 0.8532\n",
      "Epoch 89/100\n",
      "470/470 [==============================] - 0s 198us/sample - loss: 0.3929 - accuracy: 0.8574\n",
      "Epoch 90/100\n",
      "470/470 [==============================] - 0s 191us/sample - loss: 0.3852 - accuracy: 0.8553\n",
      "Epoch 91/100\n",
      "470/470 [==============================] - 0s 187us/sample - loss: 0.3814 - accuracy: 0.8553\n",
      "Epoch 92/100\n",
      "470/470 [==============================] - 0s 153us/sample - loss: 0.3778 - accuracy: 0.8468\n",
      "Epoch 93/100\n",
      "470/470 [==============================] - 0s 187us/sample - loss: 0.4667 - accuracy: 0.8426\n",
      "Epoch 94/100\n",
      "470/470 [==============================] - 0s 170us/sample - loss: 0.4076 - accuracy: 0.8447\n",
      "Epoch 95/100\n",
      "470/470 [==============================] - 0s 125us/sample - loss: 0.3997 - accuracy: 0.8574\n",
      "Epoch 96/100\n",
      "470/470 [==============================] - 0s 120us/sample - loss: 0.3968 - accuracy: 0.8426\n",
      "Epoch 97/100\n",
      "470/470 [==============================] - 0s 149us/sample - loss: 0.3805 - accuracy: 0.8617\n",
      "Epoch 98/100\n",
      "470/470 [==============================] - 0s 155us/sample - loss: 0.3839 - accuracy: 0.8489\n",
      "Epoch 99/100\n",
      "470/470 [==============================] - 0s 161us/sample - loss: 0.3915 - accuracy: 0.8617\n",
      "Epoch 100/100\n",
      "470/470 [==============================] - 0s 151us/sample - loss: 0.3891 - accuracy: 0.8553\n"
     ]
    },
    {
     "data": {
      "text/plain": [
       "<tensorflow.python.keras.callbacks.History at 0x20e3c6f92c8>"
      ]
     },
     "execution_count": 10,
     "metadata": {},
     "output_type": "execute_result"
    }
   ],
   "source": [
    "model.compile(loss='binary_crossentropy', optimizer='adam', metrics=['accuracy'])\n",
    "model.fit(X, Y, epochs=100, batch_size=10)"
   ]
  },
  {
   "cell_type": "code",
   "execution_count": null,
   "id": "b1797e42",
   "metadata": {},
   "outputs": [],
   "source": []
  }
 ],
 "metadata": {
  "kernelspec": {
   "display_name": "Python 3",
   "language": "python",
   "name": "python3"
  },
  "language_info": {
   "codemirror_mode": {
    "name": "ipython",
    "version": 3
   },
   "file_extension": ".py",
   "mimetype": "text/x-python",
   "name": "python",
   "nbconvert_exporter": "python",
   "pygments_lexer": "ipython3",
   "version": "3.7.10"
  }
 },
 "nbformat": 4,
 "nbformat_minor": 5
}
