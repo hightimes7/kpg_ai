{
 "cells": [
  {
   "cell_type": "code",
   "execution_count": 1,
   "metadata": {},
   "outputs": [],
   "source": [
    "import sys"
   ]
  },
  {
   "cell_type": "code",
   "execution_count": 2,
   "metadata": {},
   "outputs": [
    {
     "name": "stdout",
     "output_type": "stream",
     "text": [
      "3.7.10 (default, Feb 26 2021, 13:06:18) [MSC v.1916 64 bit (AMD64)]\n"
     ]
    }
   ],
   "source": [
    "print(sys.version)"
   ]
  },
  {
   "cell_type": "code",
   "execution_count": 1,
   "metadata": {},
   "outputs": [],
   "source": [
    "from tensorflow.keras.models import Sequential\n",
    "from tensorflow.keras.layers import Dense\n",
    "import numpy as np\n",
    "import tensorflow as tf"
   ]
  },
  {
   "cell_type": "code",
   "execution_count": 2,
   "metadata": {},
   "outputs": [],
   "source": [
    "np.random.seed(3)"
   ]
  },
  {
   "cell_type": "code",
   "execution_count": 4,
   "metadata": {},
   "outputs": [],
   "source": [
    "tf.random.set_seed(3)"
   ]
  },
  {
   "cell_type": "code",
   "execution_count": 5,
   "metadata": {},
   "outputs": [],
   "source": [
    "Data_set = np.loadtxt('C:/ai/2021_AI/dataset/ThoraricSurgery.csv', delimiter=',')"
   ]
  },
  {
   "cell_type": "code",
   "execution_count": 6,
   "metadata": {},
   "outputs": [
    {
     "data": {
      "text/plain": [
       "array([[293.  ,   1.  ,   3.8 , ...,   0.  ,  62.  ,   0.  ],\n",
       "       [  1.  ,   2.  ,   2.88, ...,   0.  ,  60.  ,   0.  ],\n",
       "       [  8.  ,   2.  ,   3.19, ...,   0.  ,  66.  ,   1.  ],\n",
       "       ...,\n",
       "       [406.  ,   6.  ,   5.36, ...,   0.  ,  62.  ,   0.  ],\n",
       "       [ 25.  ,   8.  ,   4.32, ...,   0.  ,  58.  ,   1.  ],\n",
       "       [447.  ,   8.  ,   5.2 , ...,   0.  ,  49.  ,   0.  ]])"
      ]
     },
     "execution_count": 6,
     "metadata": {},
     "output_type": "execute_result"
    }
   ],
   "source": [
    "Data_set"
   ]
  },
  {
   "cell_type": "code",
   "execution_count": 7,
   "metadata": {},
   "outputs": [
    {
     "data": {
      "text/plain": [
       "numpy.ndarray"
      ]
     },
     "execution_count": 7,
     "metadata": {},
     "output_type": "execute_result"
    }
   ],
   "source": [
    "type(Data_set)"
   ]
  },
  {
   "cell_type": "code",
   "execution_count": 8,
   "metadata": {},
   "outputs": [
    {
     "data": {
      "text/plain": [
       "array([[293.  ,   1.  ,   3.8 , ...,   1.  ,   0.  ,  62.  ],\n",
       "       [  1.  ,   2.  ,   2.88, ...,   1.  ,   0.  ,  60.  ],\n",
       "       [  8.  ,   2.  ,   3.19, ...,   1.  ,   0.  ,  66.  ],\n",
       "       ...,\n",
       "       [406.  ,   6.  ,   5.36, ...,   0.  ,   0.  ,  62.  ],\n",
       "       [ 25.  ,   8.  ,   4.32, ...,   0.  ,   0.  ,  58.  ],\n",
       "       [447.  ,   8.  ,   5.2 , ...,   0.  ,   0.  ,  49.  ]])"
      ]
     },
     "execution_count": 8,
     "metadata": {},
     "output_type": "execute_result"
    }
   ],
   "source": [
    "X = Data_set[:, 0:17]\n",
    "X"
   ]
  },
  {
   "cell_type": "code",
   "execution_count": 9,
   "metadata": {
    "scrolled": true
   },
   "outputs": [
    {
     "data": {
      "text/plain": [
       "array([0., 0., 1., 1., 0., 0., 0., 1., 0., 0., 0., 0., 0., 0., 1., 0., 0.,\n",
       "       0., 0., 0., 0., 0., 0., 0., 0., 0., 1., 0., 0., 1., 1., 0., 0., 0.,\n",
       "       0., 0., 1., 0., 0., 1., 0., 0., 0., 1., 0., 1., 0., 0., 1., 0., 0.,\n",
       "       0., 0., 0., 0., 0., 1., 0., 1., 0., 0., 0., 0., 0., 0., 0., 0., 0.,\n",
       "       0., 0., 0., 0., 1., 0., 1., 0., 0., 0., 0., 0., 0., 0., 0., 0., 0.,\n",
       "       0., 1., 0., 0., 0., 0., 0., 0., 0., 1., 0., 1., 0., 0., 0., 0., 0.,\n",
       "       0., 0., 0., 0., 0., 0., 1., 0., 1., 0., 0., 0., 0., 0., 0., 0., 0.,\n",
       "       0., 0., 0., 0., 1., 0., 0., 0., 0., 1., 0., 0., 0., 0., 0., 0., 0.,\n",
       "       0., 0., 0., 0., 0., 0., 0., 0., 0., 0., 0., 1., 0., 0., 0., 0., 1.,\n",
       "       0., 0., 0., 0., 0., 0., 0., 0., 0., 0., 1., 1., 0., 0., 0., 0., 0.,\n",
       "       0., 0., 0., 0., 0., 0., 0., 0., 1., 0., 1., 0., 1., 0., 0., 0., 0.,\n",
       "       0., 0., 0., 0., 0., 0., 0., 0., 1., 0., 0., 1., 1., 0., 0., 0., 0.,\n",
       "       0., 0., 0., 0., 0., 0., 1., 0., 1., 0., 0., 0., 0., 0., 0., 0., 0.,\n",
       "       1., 0., 1., 0., 0., 0., 0., 0., 0., 0., 1., 0., 0., 0., 0., 0., 0.,\n",
       "       0., 0., 1., 0., 0., 0., 0., 0., 0., 0., 0., 1., 0., 0., 0., 0., 0.,\n",
       "       0., 1., 0., 1., 0., 0., 0., 0., 0., 0., 0., 0., 0., 0., 0., 0., 0.,\n",
       "       0., 0., 0., 0., 0., 1., 1., 0., 0., 0., 0., 1., 0., 0., 1., 0., 0.,\n",
       "       0., 0., 1., 0., 0., 0., 0., 0., 0., 1., 0., 0., 0., 0., 0., 0., 0.,\n",
       "       0., 0., 0., 1., 0., 0., 0., 0., 1., 0., 0., 0., 0., 0., 0., 1., 0.,\n",
       "       0., 0., 1., 0., 0., 0., 0., 0., 0., 0., 0., 0., 0., 0., 0., 0., 0.,\n",
       "       0., 0., 0., 0., 0., 1., 0., 0., 0., 0., 0., 0., 0., 0., 0., 0., 0.,\n",
       "       0., 0., 0., 0., 0., 0., 0., 0., 0., 0., 0., 1., 0., 0., 0., 0., 0.,\n",
       "       0., 0., 0., 0., 0., 0., 0., 0., 0., 0., 0., 0., 1., 0., 0., 0., 0.,\n",
       "       0., 0., 0., 0., 0., 0., 0., 0., 0., 0., 0., 0., 0., 0., 0., 1., 0.,\n",
       "       0., 1., 0., 1., 0., 0., 0., 1., 1., 0., 0., 0., 0., 0., 0., 0., 0.,\n",
       "       0., 0., 0., 0., 0., 0., 0., 0., 0., 0., 0., 0., 0., 0., 0., 0., 0.,\n",
       "       0., 1., 0., 0., 0., 0., 1., 0., 0., 1., 1., 0., 0., 1., 1., 0., 1.,\n",
       "       0., 0., 1., 1., 0., 0., 0., 0., 0., 1., 0.])"
      ]
     },
     "execution_count": 9,
     "metadata": {},
     "output_type": "execute_result"
    }
   ],
   "source": [
    "Y = Data_set[:, 17]\n",
    "Y"
   ]
  },
  {
   "cell_type": "code",
   "execution_count": 10,
   "metadata": {},
   "outputs": [
    {
     "data": {
      "text/plain": [
       "<tensorflow.python.keras.engine.sequential.Sequential at 0x1fdc3cb0448>"
      ]
     },
     "execution_count": 10,
     "metadata": {},
     "output_type": "execute_result"
    }
   ],
   "source": [
    "model = Sequential()\n",
    "model"
   ]
  },
  {
   "cell_type": "code",
   "execution_count": 11,
   "metadata": {},
   "outputs": [],
   "source": [
    "model.add(Dense(30, input_dim=17, activation='relu'))\n",
    "model.add(Dense(1, activation='sigmoid'))"
   ]
  },
  {
   "cell_type": "code",
   "execution_count": 12,
   "metadata": {},
   "outputs": [
    {
     "name": "stdout",
     "output_type": "stream",
     "text": [
      "Train on 470 samples\n",
      "Epoch 1/100\n",
      "470/470 [==============================] - 1s 1ms/sample - loss: 0.6902 - accuracy: 0.8106\n",
      "Epoch 2/100\n",
      "470/470 [==============================] - 0s 149us/sample - loss: 0.4568 - accuracy: 0.8511\n",
      "Epoch 3/100\n",
      "470/470 [==============================] - 0s 183us/sample - loss: 0.4714 - accuracy: 0.8447\n",
      "Epoch 4/100\n",
      "470/470 [==============================] - 0s 199us/sample - loss: 0.4609 - accuracy: 0.8447\n",
      "Epoch 5/100\n",
      "470/470 [==============================] - 0s 164us/sample - loss: 0.4535 - accuracy: 0.8511\n",
      "Epoch 6/100\n",
      "470/470 [==============================] - 0s 153us/sample - loss: 0.4576 - accuracy: 0.8532\n",
      "Epoch 7/100\n",
      "470/470 [==============================] - 0s 156us/sample - loss: 0.4410 - accuracy: 0.8511\n",
      "Epoch 8/100\n",
      "470/470 [==============================] - 0s 124us/sample - loss: 0.4306 - accuracy: 0.8511\n",
      "Epoch 9/100\n",
      "470/470 [==============================] - 0s 123us/sample - loss: 0.4469 - accuracy: 0.8511\n",
      "Epoch 10/100\n",
      "470/470 [==============================] - 0s 189us/sample - loss: 0.4728 - accuracy: 0.8511\n",
      "Epoch 11/100\n",
      "470/470 [==============================] - 0s 178us/sample - loss: 0.4635 - accuracy: 0.8447\n",
      "Epoch 12/100\n",
      "470/470 [==============================] - 0s 160us/sample - loss: 0.4244 - accuracy: 0.8489\n",
      "Epoch 13/100\n",
      "470/470 [==============================] - 0s 164us/sample - loss: 0.4443 - accuracy: 0.8511\n",
      "Epoch 14/100\n",
      "470/470 [==============================] - 0s 207us/sample - loss: 0.4715 - accuracy: 0.8319\n",
      "Epoch 15/100\n",
      "470/470 [==============================] - 0s 201us/sample - loss: 0.4771 - accuracy: 0.8383\n",
      "Epoch 16/100\n",
      "470/470 [==============================] - 0s 175us/sample - loss: 0.4497 - accuracy: 0.8532\n",
      "Epoch 17/100\n",
      "470/470 [==============================] - 0s 187us/sample - loss: 0.4236 - accuracy: 0.8511\n",
      "Epoch 18/100\n",
      "470/470 [==============================] - ETA: 0s - loss: 0.4403 - accuracy: 0.84 - 0s 192us/sample - loss: 0.4229 - accuracy: 0.8468\n",
      "Epoch 19/100\n",
      "470/470 [==============================] - 0s 153us/sample - loss: 0.4997 - accuracy: 0.8191\n",
      "Epoch 20/100\n",
      "470/470 [==============================] - 0s 157us/sample - loss: 0.4174 - accuracy: 0.8511\n",
      "Epoch 21/100\n",
      "470/470 [==============================] - 0s 164us/sample - loss: 0.4461 - accuracy: 0.8532\n",
      "Epoch 22/100\n",
      "470/470 [==============================] - 0s 163us/sample - loss: 0.4445 - accuracy: 0.8426\n",
      "Epoch 23/100\n",
      "470/470 [==============================] - 0s 127us/sample - loss: 0.4229 - accuracy: 0.8489\n",
      "Epoch 24/100\n",
      "470/470 [==============================] - 0s 140us/sample - loss: 0.4149 - accuracy: 0.8511\n",
      "Epoch 25/100\n",
      "470/470 [==============================] - 0s 156us/sample - loss: 0.4371 - accuracy: 0.8511\n",
      "Epoch 26/100\n",
      "470/470 [==============================] - 0s 165us/sample - loss: 0.4285 - accuracy: 0.8511\n",
      "Epoch 27/100\n",
      "470/470 [==============================] - 0s 169us/sample - loss: 0.4238 - accuracy: 0.8532\n",
      "Epoch 28/100\n",
      "470/470 [==============================] - 0s 178us/sample - loss: 0.4098 - accuracy: 0.8532\n",
      "Epoch 29/100\n",
      "470/470 [==============================] - 0s 146us/sample - loss: 0.4106 - accuracy: 0.8532\n",
      "Epoch 30/100\n",
      "470/470 [==============================] - 0s 146us/sample - loss: 0.4068 - accuracy: 0.8489\n",
      "Epoch 31/100\n",
      "470/470 [==============================] - 0s 136us/sample - loss: 0.4238 - accuracy: 0.8447\n",
      "Epoch 32/100\n",
      "470/470 [==============================] - 0s 123us/sample - loss: 0.4085 - accuracy: 0.8532\n",
      "Epoch 33/100\n",
      "470/470 [==============================] - 0s 124us/sample - loss: 0.4073 - accuracy: 0.8511\n",
      "Epoch 34/100\n",
      "470/470 [==============================] - 0s 152us/sample - loss: 0.4291 - accuracy: 0.8426\n",
      "Epoch 35/100\n",
      "470/470 [==============================] - 0s 183us/sample - loss: 0.4249 - accuracy: 0.8532\n",
      "Epoch 36/100\n",
      "470/470 [==============================] - 0s 188us/sample - loss: 0.4544 - accuracy: 0.8468\n",
      "Epoch 37/100\n",
      "470/470 [==============================] - 0s 161us/sample - loss: 0.5080 - accuracy: 0.8319\n",
      "Epoch 38/100\n",
      "470/470 [==============================] - 0s 132us/sample - loss: 0.4199 - accuracy: 0.8553\n",
      "Epoch 39/100\n",
      "470/470 [==============================] - 0s 121us/sample - loss: 0.4501 - accuracy: 0.8511\n",
      "Epoch 40/100\n",
      "470/470 [==============================] - 0s 145us/sample - loss: 0.4215 - accuracy: 0.8553\n",
      "Epoch 41/100\n",
      "470/470 [==============================] - 0s 160us/sample - loss: 0.4334 - accuracy: 0.8532\n",
      "Epoch 42/100\n",
      "470/470 [==============================] - 0s 131us/sample - loss: 0.4312 - accuracy: 0.8426\n",
      "Epoch 43/100\n",
      "470/470 [==============================] - 0s 149us/sample - loss: 0.4203 - accuracy: 0.8447\n",
      "Epoch 44/100\n",
      "470/470 [==============================] - 0s 174us/sample - loss: 0.4127 - accuracy: 0.8553\n",
      "Epoch 45/100\n",
      "470/470 [==============================] - 0s 199us/sample - loss: 0.4014 - accuracy: 0.8532\n",
      "Epoch 46/100\n",
      "470/470 [==============================] - 0s 175us/sample - loss: 0.3975 - accuracy: 0.8574\n",
      "Epoch 47/100\n",
      "470/470 [==============================] - 0s 155us/sample - loss: 0.3931 - accuracy: 0.8532\n",
      "Epoch 48/100\n",
      "470/470 [==============================] - 0s 158us/sample - loss: 0.3989 - accuracy: 0.8532\n",
      "Epoch 49/100\n",
      "470/470 [==============================] - 0s 156us/sample - loss: 0.4041 - accuracy: 0.8447\n",
      "Epoch 50/100\n",
      "470/470 [==============================] - 0s 110us/sample - loss: 0.4228 - accuracy: 0.8447\n",
      "Epoch 51/100\n",
      "470/470 [==============================] - 0s 109us/sample - loss: 0.4085 - accuracy: 0.8553\n",
      "Epoch 52/100\n",
      "470/470 [==============================] - 0s 167us/sample - loss: 0.3976 - accuracy: 0.8532\n",
      "Epoch 53/100\n",
      "470/470 [==============================] - 0s 169us/sample - loss: 0.4090 - accuracy: 0.8553\n",
      "Epoch 54/100\n",
      "470/470 [==============================] - 0s 120us/sample - loss: 0.4367 - accuracy: 0.8489\n",
      "Epoch 55/100\n",
      "470/470 [==============================] - 0s 140us/sample - loss: 0.4172 - accuracy: 0.8574\n",
      "Epoch 56/100\n",
      "470/470 [==============================] - 0s 153us/sample - loss: 0.4055 - accuracy: 0.8574\n",
      "Epoch 57/100\n",
      "470/470 [==============================] - 0s 183us/sample - loss: 0.4138 - accuracy: 0.8511\n",
      "Epoch 58/100\n",
      "470/470 [==============================] - 0s 172us/sample - loss: 0.4301 - accuracy: 0.8511\n",
      "Epoch 59/100\n",
      "470/470 [==============================] - 0s 145us/sample - loss: 0.4176 - accuracy: 0.8489\n",
      "Epoch 60/100\n",
      "470/470 [==============================] - 0s 153us/sample - loss: 0.4210 - accuracy: 0.8447\n",
      "Epoch 61/100\n",
      "470/470 [==============================] - 0s 161us/sample - loss: 0.3977 - accuracy: 0.8532\n",
      "Epoch 62/100\n",
      "470/470 [==============================] - 0s 160us/sample - loss: 0.3898 - accuracy: 0.8532\n",
      "Epoch 63/100\n",
      "470/470 [==============================] - 0s 156us/sample - loss: 0.4017 - accuracy: 0.8511\n",
      "Epoch 64/100\n",
      "470/470 [==============================] - 0s 158us/sample - loss: 0.4099 - accuracy: 0.8511\n",
      "Epoch 65/100\n",
      "470/470 [==============================] - 0s 190us/sample - loss: 0.4029 - accuracy: 0.8511\n",
      "Epoch 66/100\n",
      "470/470 [==============================] - 0s 123us/sample - loss: 0.3930 - accuracy: 0.8553\n",
      "Epoch 67/100\n",
      "470/470 [==============================] - 0s 111us/sample - loss: 0.4020 - accuracy: 0.8532\n",
      "Epoch 68/100\n",
      "470/470 [==============================] - 0s 158us/sample - loss: 0.4005 - accuracy: 0.8447\n",
      "Epoch 69/100\n",
      "470/470 [==============================] - 0s 170us/sample - loss: 0.4109 - accuracy: 0.8489\n",
      "Epoch 70/100\n",
      "470/470 [==============================] - 0s 170us/sample - loss: 0.3946 - accuracy: 0.8532\n",
      "Epoch 71/100\n",
      "470/470 [==============================] - 0s 203us/sample - loss: 0.4057 - accuracy: 0.8553\n",
      "Epoch 72/100\n",
      "470/470 [==============================] - 0s 154us/sample - loss: 0.4299 - accuracy: 0.8404\n",
      "Epoch 73/100\n",
      "470/470 [==============================] - 0s 130us/sample - loss: 0.3950 - accuracy: 0.8553\n",
      "Epoch 74/100\n",
      "470/470 [==============================] - 0s 158us/sample - loss: 0.3994 - accuracy: 0.8574\n",
      "Epoch 75/100\n",
      "470/470 [==============================] - 0s 196us/sample - loss: 0.3996 - accuracy: 0.8553\n",
      "Epoch 76/100\n",
      "470/470 [==============================] - 0s 185us/sample - loss: 0.3951 - accuracy: 0.8532\n",
      "Epoch 77/100\n"
     ]
    },
    {
     "name": "stdout",
     "output_type": "stream",
     "text": [
      "470/470 [==============================] - 0s 162us/sample - loss: 0.3807 - accuracy: 0.8596\n",
      "Epoch 78/100\n",
      "470/470 [==============================] - 0s 165us/sample - loss: 0.4029 - accuracy: 0.8511\n",
      "Epoch 79/100\n",
      "470/470 [==============================] - 0s 155us/sample - loss: 0.4004 - accuracy: 0.8426\n",
      "Epoch 80/100\n",
      "470/470 [==============================] - 0s 171us/sample - loss: 0.4070 - accuracy: 0.8468\n",
      "Epoch 81/100\n",
      "470/470 [==============================] - 0s 177us/sample - loss: 0.3829 - accuracy: 0.8596\n",
      "Epoch 82/100\n",
      "470/470 [==============================] - 0s 168us/sample - loss: 0.3990 - accuracy: 0.8489\n",
      "Epoch 83/100\n",
      "470/470 [==============================] - 0s 207us/sample - loss: 0.4090 - accuracy: 0.8532\n",
      "Epoch 84/100\n",
      "470/470 [==============================] - 0s 173us/sample - loss: 0.4089 - accuracy: 0.8362\n",
      "Epoch 85/100\n",
      "470/470 [==============================] - 0s 110us/sample - loss: 0.4268 - accuracy: 0.8404\n",
      "Epoch 86/100\n",
      "470/470 [==============================] - 0s 89us/sample - loss: 0.3952 - accuracy: 0.8511\n",
      "Epoch 87/100\n",
      "470/470 [==============================] - 0s 79us/sample - loss: 0.3920 - accuracy: 0.8532\n",
      "Epoch 88/100\n",
      "470/470 [==============================] - 0s 100us/sample - loss: 0.3843 - accuracy: 0.8532\n",
      "Epoch 89/100\n",
      "470/470 [==============================] - 0s 110us/sample - loss: 0.3929 - accuracy: 0.8574\n",
      "Epoch 90/100\n",
      "470/470 [==============================] - 0s 121us/sample - loss: 0.3852 - accuracy: 0.8553\n",
      "Epoch 91/100\n",
      "470/470 [==============================] - 0s 119us/sample - loss: 0.3814 - accuracy: 0.8553\n",
      "Epoch 92/100\n",
      "470/470 [==============================] - 0s 125us/sample - loss: 0.3778 - accuracy: 0.8468\n",
      "Epoch 93/100\n",
      "470/470 [==============================] - 0s 196us/sample - loss: 0.4667 - accuracy: 0.8426\n",
      "Epoch 94/100\n",
      "470/470 [==============================] - 0s 192us/sample - loss: 0.4076 - accuracy: 0.8447\n",
      "Epoch 95/100\n",
      "470/470 [==============================] - 0s 166us/sample - loss: 0.3997 - accuracy: 0.8574\n",
      "Epoch 96/100\n",
      "470/470 [==============================] - 0s 144us/sample - loss: 0.3968 - accuracy: 0.8426\n",
      "Epoch 97/100\n",
      "470/470 [==============================] - 0s 176us/sample - loss: 0.3805 - accuracy: 0.8617\n",
      "Epoch 98/100\n",
      "470/470 [==============================] - 0s 144us/sample - loss: 0.3839 - accuracy: 0.8489\n",
      "Epoch 99/100\n",
      "470/470 [==============================] - 0s 166us/sample - loss: 0.3915 - accuracy: 0.8617\n",
      "Epoch 100/100\n",
      "470/470 [==============================] - 0s 155us/sample - loss: 0.3891 - accuracy: 0.8553\n"
     ]
    },
    {
     "data": {
      "text/plain": [
       "<tensorflow.python.keras.callbacks.History at 0x1fdc386c708>"
      ]
     },
     "execution_count": 12,
     "metadata": {},
     "output_type": "execute_result"
    }
   ],
   "source": [
    "model.compile(loss='binary_crossentropy', optimizer='adam', metrics=['accuracy'])\n",
    "model.fit(X, Y, epochs=100, batch_size=10)"
   ]
  },
  {
   "cell_type": "code",
   "execution_count": 13,
   "metadata": {},
   "outputs": [
    {
     "name": "stdout",
     "output_type": "stream",
     "text": [
      "[[0.0943418]]\n"
     ]
    }
   ],
   "source": [
    "new_x = np.array([[293,1,3.8,2.8,0,0,0,0,0,0,12,0,0,0,1,0,62]])\n",
    "y_predict = model.predict(new_x)\n",
    "print(y_predict)"
   ]
  },
  {
   "cell_type": "code",
   "execution_count": 14,
   "metadata": {},
   "outputs": [
    {
     "name": "stdout",
     "output_type": "stream",
     "text": [
      "[[0.23978588]]\n"
     ]
    }
   ],
   "source": [
    "new_x = np.array([[197,3,2.84,2.24,1,1,1,0,0,0,12,0,0,0,1,0,68]])\n",
    "y_predict = model.predict(new_x)\n",
    "print(y_predict)"
   ]
  },
  {
   "cell_type": "code",
   "execution_count": 15,
   "metadata": {},
   "outputs": [
    {
     "name": "stderr",
     "output_type": "stream",
     "text": [
      "Using TensorFlow backend.\n"
     ]
    }
   ],
   "source": [
    "from keras.models import load_model\n",
    "\n",
    "model.save('my_model.h5')"
   ]
  },
  {
   "cell_type": "code",
   "execution_count": null,
   "metadata": {},
   "outputs": [],
   "source": []
  }
 ],
 "metadata": {
  "kernelspec": {
   "display_name": "Python 3",
   "language": "python",
   "name": "python3"
  },
  "language_info": {
   "codemirror_mode": {
    "name": "ipython",
    "version": 3
   },
   "file_extension": ".py",
   "mimetype": "text/x-python",
   "name": "python",
   "nbconvert_exporter": "python",
   "pygments_lexer": "ipython3",
   "version": "3.7.10"
  }
 },
 "nbformat": 4,
 "nbformat_minor": 4
}
