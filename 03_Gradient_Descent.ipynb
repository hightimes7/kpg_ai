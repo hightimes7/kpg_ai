{
 "cells": [
  {
   "cell_type": "markdown",
   "id": "f2d5452c",
   "metadata": {},
   "source": [
    "### 경사 하강법 (Gradient Descent)"
   ]
  },
  {
   "cell_type": "code",
   "execution_count": 1,
   "id": "383559cc",
   "metadata": {
    "scrolled": true
   },
   "outputs": [],
   "source": [
    "import numpy as np\n",
    "import pandas as pd\n",
    "import matplotlib.pyplot as plt"
   ]
  },
  {
   "cell_type": "code",
   "execution_count": 2,
   "id": "25bccfe2",
   "metadata": {},
   "outputs": [],
   "source": [
    "data = [[2,81],[4,93],[6,91],[8,97]]\n",
    "x = [i[0] for i in data]\n",
    "y = [i[1] for i in data]"
   ]
  },
  {
   "cell_type": "code",
   "execution_count": 3,
   "id": "1c820d2b",
   "metadata": {},
   "outputs": [
    {
     "name": "stdout",
     "output_type": "stream",
     "text": [
      "[2, 4, 6, 8]\n",
      "[81, 93, 91, 97]\n"
     ]
    }
   ],
   "source": [
    "print(x)\n",
    "print(y)"
   ]
  },
  {
   "cell_type": "code",
   "execution_count": 4,
   "id": "a7526061",
   "metadata": {},
   "outputs": [
    {
     "data": {
      "image/png": "[encoded data removed]",
      "text/plain": [
       "<Figure size 576x360 with 1 Axes>"
      ]
     },
     "metadata": {
      "needs_background": "light"
     },
     "output_type": "display_data"
    }
   ],
   "source": [
    "plt.figure(figsize=(8,5))\n",
    "plt.scatter(x, y)\n",
    "plt.show()"
   ]
  },
  {
   "cell_type": "code",
   "execution_count": 5,
   "id": "0e6994e6",
   "metadata": {},
   "outputs": [],
   "source": [
    "x_data = np.array(x)\n",
    "y_data = np.array(y)"
   ]
  },
  {
   "cell_type": "code",
   "execution_count": 6,
   "id": "49ffc8a2",
   "metadata": {},
   "outputs": [
    {
     "name": "stdout",
     "output_type": "stream",
     "text": [
      "[2 4 6 8]\n",
      "[81 93 91 97]\n"
     ]
    }
   ],
   "source": [
    "print(x_data)\n",
    "print(y_data)"
   ]
  },
  {
   "cell_type": "code",
   "execution_count": 7,
   "id": "7038d860",
   "metadata": {},
   "outputs": [],
   "source": [
    "a = 0  # 기울기\n",
    "b = 0  # y 절편\n",
    "\n",
    "lr = 0.03  # learning rate\n",
    "epochs = 2001"
   ]
  },
  {
   "cell_type": "code",
   "execution_count": 8,
   "id": "531c4d8f",
   "metadata": {},
   "outputs": [
    {
     "name": "stdout",
     "output_type": "stream",
     "text": [
      "epoch=0, 기울기=27.8400, 절편=5.4300, a로 편미분한 결과 값=-928.0000\n",
      "epoch=100, 기울기=7.0739, 절편=50.5117, a로 편미분한 결과 값=1.5632\n",
      "epoch=200, 기울기=4.0960, 절편=68.2822, a로 편미분한 결과 값=0.5881\n",
      "epoch=300, 기울기=2.9757, 절편=74.9678, a로 편미분한 결과 값=0.2213\n",
      "epoch=400, 기울기=2.5542, 절편=77.4830, a로 편미분한 결과 값=0.0832\n",
      "epoch=500, 기울기=2.3956, 절편=78.4293, a로 편미분한 결과 값=0.0313\n",
      "epoch=600, 기울기=2.3360, 절편=78.7853, a로 편미분한 결과 값=0.0118\n",
      "epoch=700, 기울기=2.3135, 절편=78.9192, a로 편미분한 결과 값=0.0044\n",
      "epoch=800, 기울기=2.3051, 절편=78.9696, a로 편미분한 결과 값=0.0017\n",
      "epoch=900, 기울기=2.3019, 절편=78.9886, a로 편미분한 결과 값=0.0006\n",
      "epoch=1000, 기울기=2.3007, 절편=78.9957, a로 편미분한 결과 값=0.0002\n",
      "epoch=1100, 기울기=2.3003, 절편=78.9984, a로 편미분한 결과 값=0.0001\n",
      "epoch=1200, 기울기=2.3001, 절편=78.9994, a로 편미분한 결과 값=0.0000\n",
      "epoch=1300, 기울기=2.3000, 절편=78.9998, a로 편미분한 결과 값=0.0000\n",
      "epoch=1400, 기울기=2.3000, 절편=78.9999, a로 편미분한 결과 값=0.0000\n",
      "epoch=1500, 기울기=2.3000, 절편=79.0000, a로 편미분한 결과 값=0.0000\n",
      "epoch=1600, 기울기=2.3000, 절편=79.0000, a로 편미분한 결과 값=0.0000\n",
      "epoch=1700, 기울기=2.3000, 절편=79.0000, a로 편미분한 결과 값=0.0000\n",
      "epoch=1800, 기울기=2.3000, 절편=79.0000, a로 편미분한 결과 값=0.0000\n",
      "epoch=1900, 기울기=2.3000, 절편=79.0000, a로 편미분한 결과 값=0.0000\n",
      "epoch=2000, 기울기=2.3000, 절편=79.0000, a로 편미분한 결과 값=0.0000\n"
     ]
    }
   ],
   "source": [
    "for i in range(epochs):\n",
    "    y_pred = a * x_data + b\n",
    "    error = y_data - y_pred\n",
    "    a_diff = -(2/len(x_data)) * sum(x_data * (error))  # a로 편미분\n",
    "    b_diff = -(2/len(x_data)) * sum(error)  # b로 편미분\n",
    "    \n",
    "    a = a - lr * a_diff\n",
    "    b = b - lr * b_diff\n",
    "    \n",
    "    if i % 100 == 0:\n",
    "        print('epoch=%.f, 기울기=%.04f, 절편=%.04f, a로 편미분한 결과 값=%.04f' %(i,a,b,a_diff))"
   ]
  },
  {
   "cell_type": "code",
   "execution_count": 9,
   "id": "dff377e7",
   "metadata": {},
   "outputs": [
    {
     "data": {
      "text/plain": [
       "array([83.59999984, 88.19999992, 92.8       , 97.40000008])"
      ]
     },
     "execution_count": 9,
     "metadata": {},
     "output_type": "execute_result"
    }
   ],
   "source": [
    "y_pred = a * x_data + b\n",
    "y_pred"
   ]
  },
  {
   "cell_type": "code",
   "execution_count": 10,
   "id": "ecaf65bf",
   "metadata": {},
   "outputs": [
    {
     "data": {
      "image/png": "[encoded data removed]",
      "text/plain": [
       "<Figure size 432x288 with 1 Axes>"
      ]
     },
     "metadata": {
      "needs_background": "light"
     },
     "output_type": "display_data"
    }
   ],
   "source": [
    "plt.scatter(x, y)\n",
    "plt.plot([min(x_data), max(x_data)], [min(y_pred), max(y_pred)])\n",
    "plt.show()"
   ]
  },
  {
   "cell_type": "code",
   "execution_count": null,
   "id": "80753b7a",
   "metadata": {},
   "outputs": [],
   "source": []
  },
  {
   "cell_type": "code",
   "execution_count": 11,
   "id": "b9576fc7",
   "metadata": {},
   "outputs": [],
   "source": [
    "a = 15  # 기울기\n",
    "b = 0  # y 절편\n",
    "\n",
    "lr = 0.03  # learning rate\n",
    "epochs = 30"
   ]
  },
  {
   "cell_type": "code",
   "execution_count": 12,
   "id": "91abd133",
   "metadata": {},
   "outputs": [
    {
     "name": "stdout",
     "output_type": "stream",
     "text": [
      "\n",
      "0 번째 --------------------------------------------------------------------------------\n",
      "●a = 15.0000, 절편 b = 0.0000 에서 시작\n",
      "실제 y값 : [81 93 91 97]\n",
      "예측된 y값 : [ 30  60  90 120]\n",
      "경사항강법을 이용하여 a로 편미분한 값 -28.0\n",
      "경사항강법을 이용하여 b로 편미분한 값 -31.0\n",
      "epoch=0, 업데이트 된 a =15.8400, 업데이트 된 절편 b=0.9300\n",
      "\n",
      "1 번째 --------------------------------------------------------------------------------\n",
      "●a = 15.8400, 절편 b = 0.9300 에서 시작\n",
      "실제 y값 : [81 93 91 97]\n",
      "예측된 y값 : [ 32.61  64.29  95.97 127.65]\n",
      "경사항강법을 이용하여 a로 편미분한 값 31.70000000000003\n",
      "경사항강법을 이용하여 b로 편미분한 값 -20.739999999999995\n",
      "epoch=1, 업데이트 된 a =14.8890, 업데이트 된 절편 b=1.5522\n",
      "\n",
      "2 번째 --------------------------------------------------------------------------------\n",
      "●a = 14.8890, 절편 b = 1.5522 에서 시작\n",
      "실제 y값 : [81 93 91 97]\n",
      "예측된 y값 : [ 31.3302  61.1082  90.8862 120.6642]\n",
      "경사항강법을 이용하여 a로 편미분한 값 -19.138000000000034\n",
      "경사항강법을 이용하여 b로 편미분한 값 -29.0056\n",
      "epoch=2, 업데이트 된 a =15.4631, 업데이트 된 절편 b=2.4224\n",
      "\n",
      "3 번째 --------------------------------------------------------------------------------\n",
      "●a = 15.4631, 절편 b = 2.4224 에서 시작\n",
      "실제 y값 : [81 93 91 97]\n",
      "예측된 y값 : [ 33.348648  64.274928  95.201208 126.127488]\n",
      "경사항강법을 이용하여 a로 편미분한 값 24.012080000000083\n",
      "경사항강법을 이용하여 b로 편미분한 값 -21.523863999999982\n",
      "epoch=3, 업데이트 된 a =14.7428, 업데이트 된 절편 b=3.0681\n",
      "\n",
      "4 번째 --------------------------------------------------------------------------------\n",
      "●a = 14.7428, 절편 b = 3.0681 에서 시작\n",
      "실제 y값 : [81 93 91 97]\n",
      "예측된 y값 : [ 32.55363912  62.03919432  91.52474952 121.01030472]\n",
      "경사항강법을 이용하여 a로 편미분한 값 -12.752504800000153\n",
      "경사항강법을 이용하여 b로 편미분한 값 -27.43605616000002\n",
      "epoch=4, 업데이트 된 a =15.1254, 업데이트 된 절편 b=3.8912\n",
      "\n",
      "5 번째 --------------------------------------------------------------------------------\n",
      "●a = 15.1254, 절편 b = 3.8912 에서 시작\n",
      "실제 y값 : [81 93 91 97]\n",
      "예측된 y값 : [ 34.14187109  64.39257658  94.64328207 124.89398756]\n",
      "경사항강법을 이용하여 a로 편미분한 값 18.432820688000092\n",
      "경사항강법을 이용하여 b로 편미분한 값 -21.964141350399984\n",
      "epoch=5, 업데이트 된 a =14.5724, 업데이트 된 절편 b=4.5501\n",
      "\n",
      "6 번째 --------------------------------------------------------------------------------\n",
      "●a = 14.5724, 절편 b = 4.5501 에서 시작\n",
      "실제 y값 : [81 93 91 97]\n",
      "예측된 y값 : [ 33.69482609  62.83956234  91.98429859 121.12903483]\n",
      "경사항강법을 이용하여 a로 편미분한 값 -8.157014145279959\n",
      "경사항강법을 이용하여 b로 편미분한 값 -26.176139075775993\n",
      "epoch=6, 업데이트 된 a =14.8171, 업데이트 된 절편 b=5.3354\n",
      "\n",
      "7 번째 --------------------------------------------------------------------------------\n",
      "●a = 14.8171, 절편 b = 5.3354 에서 시작\n",
      "실제 y값 : [81 93 91 97]\n",
      "예측된 y값 : [ 34.96953111  64.60368821  94.2378453  123.8720024 ]\n",
      "경사항강법을 이용하여 a로 편미분한 값 14.378453038956764\n",
      "경사항강법을 이용하여 b로 편미분한 값 -22.15846648764544\n",
      "epoch=7, 업데이트 된 a =14.3857, 업데이트 된 절편 b=6.0001\n",
      "\n",
      "8 번째 --------------------------------------------------------------------------------\n",
      "●a = 14.3857, 절편 b = 6.0001 에서 시작\n",
      "실제 y값 : [81 93 91 97]\n",
      "예측된 y값 : [ 34.77157793  63.54302784  92.31447775 121.08592766]\n",
      "경사항강법을 이용하여 a로 편미분한 값 -4.855222484871788\n",
      "경사항강법을 이용하여 b로 편미분한 값 -25.142494410073752\n",
      "epoch=8, 업데이트 된 a =14.5314, 업데이트 된 절편 b=6.7544\n",
      "\n",
      "9 번째 --------------------------------------------------------------------------------\n",
      "●a = 14.5314, 절편 b = 6.7544 에서 시작\n",
      "실제 y값 : [81 93 91 97]\n",
      "예측된 y값 : [ 35.81716611  64.87992937  93.94269263 123.00545589]\n",
      "경사항강법을 이용하여 a로 편미분한 값 11.42692631091954\n",
      "경사항강법을 이용하여 b로 편미분한 값 -22.177378000007792\n",
      "epoch=9, 업데이트 된 a =14.1886, 업데이트 된 절편 b=7.4197\n",
      "\n",
      "10 번째 --------------------------------------------------------------------------------\n",
      "●a = 14.1886, 절편 b = 7.4197 에서 시작\n",
      "실제 y값 : [81 93 91 97]\n",
      "예측된 y값 : [ 35.79687187  64.17401955  92.55116724 120.92831492]\n",
      "경사항강법을 이용하여 a로 편미분한 값 -2.488327648733346\n",
      "경사항강법을 이용하여 b로 편미분한 값 -24.274813213283196\n",
      "epoch=10, 업데이트 된 a =14.2632, 업데이트 된 절편 b=8.1480\n",
      "\n",
      "11 번째 --------------------------------------------------------------------------------\n",
      "●a = 14.2632, 절편 b = 8.1480 에서 시작\n",
      "실제 y값 : [81 93 91 97]\n",
      "예측된 y값 : [ 36.67441592  65.20086327  93.72731061 122.25375795]\n",
      "경사항강법을 이용하여 a로 편미분한 값 9.273106082971594\n",
      "경사항강법을 이용하여 b로 편미분한 값 -22.07182612586621\n",
      "epoch=11, 업데이트 된 a =13.9850, 업데이트 된 절편 b=8.8101\n",
      "\n",
      "12 번째 --------------------------------------------------------------------------------\n",
      "●a = 13.9850, 절편 b = 8.8101 에서 시작\n",
      "실제 y값 : [81 93 91 97]\n",
      "예측된 y값 : [ 36.78018434  64.75024532  92.7203063  120.69036727]\n",
      "경사항강법을 이용하여 a로 편미분한 값 -0.7969370286174495\n",
      "경사항강법을 이용하여 b로 편미분한 값 -23.529448383205718\n",
      "epoch=12, 업데이트 된 a =14.0089, 업데이트 된 절편 b=9.5160\n",
      "\n",
      "13 번째 --------------------------------------------------------------------------------\n",
      "●a = 14.0089, 절편 b = 9.5160 에서 시작\n",
      "실제 y값 : [81 93 91 97]\n",
      "예측된 y값 : [ 37.53388402  65.55176121  93.56963841 121.58751561]\n",
      "경사항강법을 이용하여 a로 편미분한 값 7.696384137855688\n",
      "경사항강법을 이용하여 b로 편미분한 값 -21.87860037162814\n",
      "epoch=13, 업데이트 된 a =13.7780, 업데이트 된 절편 b=10.1724\n",
      "\n",
      "14 번째 --------------------------------------------------------------------------------\n",
      "●a = 13.7780, 절편 b = 10.1724 에서 시작\n",
      "실제 y값 : [81 93 91 97]\n",
      "예측된 y값 : [ 37.72845898  65.28455313  92.84064728 120.39674143]\n",
      "경사항강법을 이용하여 a로 편미분한 값 0.40647280120387563\n",
      "경사항강법을 이용하여 b로 편미분한 값 -22.87479959068716\n",
      "epoch=14, 업데이트 된 a =13.7659, 업데이트 된 절편 b=10.8586\n",
      "\n",
      "15 번째 --------------------------------------------------------------------------------\n",
      "●a = 13.7659, 절편 b = 10.8586 에서 시작\n",
      "실제 y값 : [81 93 91 97]\n",
      "예측된 y값 : [ 38.3903146   65.92202038  93.45372616 120.98543195]\n",
      "경사항강법을 이용하여 a로 편미분한 값 6.537261636243002\n",
      "경사항강법을 이용하여 b로 편미분한 값 -21.624253455607096\n",
      "epoch=15, 업데이트 된 a =13.5697, 업데이트 된 절편 b=11.5073\n",
      "\n",
      "16 번째 --------------------------------------------------------------------------------\n",
      "●a = 13.5697, 절편 b = 11.5073 에서 시작\n",
      "실제 y값 : [81 93 91 97]\n",
      "예측된 y값 : [ 38.6468065   65.78627659  92.92574667 120.06521676]\n",
      "경사항강법을 이용하여 a로 편미분한 값 1.2574667276876852\n",
      "경사항강법을 이용하여 b로 편미분한 값 -22.28797673914358\n",
      "epoch=16, 업데이트 된 a =13.5320, 업데이트 된 절편 b=12.1760\n",
      "\n",
      "17 번째 --------------------------------------------------------------------------------\n",
      "●a = 13.5320, 절편 b = 12.1760 에서 시작\n",
      "실제 y값 : [81 93 91 97]\n",
      "예측된 y값 : [ 39.2399978   66.30401988  93.36804196 120.43206404]\n",
      "경사항강법을 이용하여 a로 편미분한 값 5.680419639592984\n",
      "경사항강법을 이용하여 b로 편미분한 값 -21.327938153101258\n",
      "epoch=17, 업데이트 된 a =13.3616, 업데이트 된 절편 b=12.8158\n",
      "\n",
      "18 번째 --------------------------------------------------------------------------------\n",
      "●a = 13.3616, 절편 b = 12.8158 에서 시작\n",
      "실제 y값 : [81 93 91 97]\n",
      "예측된 y값 : [ 39.53901077  66.26220767  92.98540457 119.70860148]\n",
      "경사항강법을 이용하여 a로 편미분한 값 1.8540457342559762\n",
      "경사항강법을 이용하여 b로 편미분한 값 -21.75238775579308\n",
      "epoch=18, 업데이트 된 a =13.3060, 업데이트 된 절편 b=13.4684\n",
      "\n",
      "19 번째 --------------------------------------------------------------------------------\n",
      "●a = 13.3060, 절편 b = 13.4684 에서 시작\n",
      "실제 y값 : [81 93 91 97]\n",
      "예측된 y값 : [ 40.08033966  66.69229382  93.30424797 119.91620213]\n",
      "경사항강법을 이용하여 a로 편미분한 값 5.042479739333103\n",
      "경사항강법을 이용하여 b로 편미분한 값 -21.0034582107223\n",
      "epoch=19, 업데이트 된 a =13.1547, 업데이트 된 절편 b=14.0985\n",
      "\n",
      "20 번째 --------------------------------------------------------------------------------\n",
      "●a = 13.1547, 절편 b = 14.0985 에서 시작\n",
      "실제 y값 : [81 93 91 97]\n",
      "예측된 y값 : [ 40.40789462  66.71729999  93.02670537 119.33611074]\n",
      "경사항강법을 이용하여 a로 편미분한 값 2.2670536717502614\n",
      "경사항강법을 이용하여 b로 편미분한 값 -21.255994639878878\n",
      "epoch=20, 업데이트 된 a =13.0867, 업데이트 된 절편 b=14.7362\n",
      "\n",
      "21 번째 --------------------------------------------------------------------------------\n",
      "●a = 13.0867, 절편 b = 14.7362 에서 시작\n",
      "실제 y값 : [81 93 91 97]\n",
      "예측된 y값 : [ 40.90955124  67.08293339  93.25631555 119.4296977 ]\n",
      "경사항강법을 이용하여 a로 편미분한 값 4.5631554545634\n",
      "경사항강법을 이용하여 b로 편미분한 값 -20.660751063011233\n",
      "epoch=21, 업데이트 된 a =12.9498, 업데이트 된 절편 b=15.3560\n",
      "\n",
      "22 번째 --------------------------------------------------------------------------------\n",
      "●a = 12.9498, 절편 b = 15.3560 에서 시작\n",
      "실제 y값 : [81 93 91 97]\n",
      "예측된 y값 : [ 41.25558444  67.15517727  93.0547701  118.95436292]\n",
      "경사항강법을 이용하여 a로 편미분한 값 2.5477009552526226\n",
      "경사항강법을 이용하여 b로 편미분한 값 -20.790052635599586\n",
      "epoch=22, 업데이트 된 a =12.8734, 업데이트 된 절편 b=15.9797\n",
      "\n",
      "23 번째 --------------------------------------------------------------------------------\n",
      "●a = 12.8734, 절편 b = 15.9797 에서 시작\n",
      "실제 y값 : [81 93 91 97]\n",
      "예측된 y값 : [ 41.72642396  67.47315473  93.2198855  118.96661627]\n",
      "경사항강법을 이용하여 a로 편미분한 값 4.1988550264777444\n",
      "경사항강법을 이용하여 b로 편미분한 값 -20.306959764039405\n",
      "epoch=23, 업데이트 된 a =12.7474, 업데이트 된 절편 b=16.5889\n",
      "\n",
      "24 번째 --------------------------------------------------------------------------------\n",
      "●a = 12.7474, 절편 b = 16.5889 에서 시작\n",
      "실제 y값 : [81 93 91 97]\n",
      "예측된 y값 : [ 42.08370146  67.57850092  93.07330039 118.56809986]\n",
      "경사항강법을 이용하여 a로 편미분한 값 2.7330039080297013\n",
      "경사항강법을 이용하여 b로 편미분한 값 -20.34819868614035\n",
      "epoch=24, 업데이트 된 a =12.6654, 업데이트 된 절편 b=17.1993\n",
      "\n",
      "25 번째 --------------------------------------------------------------------------------\n",
      "●a = 12.6654, 절편 b = 17.1993 에서 시작\n",
      "실제 y값 : [81 93 91 97]\n",
      "예측된 y값 : [ 42.53016718  67.86098641  93.19180565 118.52262488]\n",
      "경사항강법을 이용하여 a로 편미분한 값 3.9180564794182544\n",
      "경사항강법을 이용하여 b로 편미분한 값 -19.947207937380856\n",
      "epoch=25, 업데이트 된 a =12.5479, 업데이트 된 절편 b=17.7978\n",
      "\n",
      "26 번째 --------------------------------------------------------------------------------\n",
      "●a = 12.5479, 절편 b = 17.7978 에서 시작\n",
      "실제 y값 : [81 93 91 97]\n",
      "예측된 y값 : [ 42.89350003  67.98923588  93.08497172 118.18070756]\n",
      "경사항강법을 이용하여 a로 편미분한 값 2.8497171976796807\n",
      "경사항강법을 이용하여 b로 편미분한 값 -19.925792404963474\n",
      "epoch=26, 업데이트 된 a =12.4624, 업데이트 된 절편 b=18.3955\n",
      "\n",
      "27 번째 --------------------------------------------------------------------------------\n",
      "●a = 12.4624, 절편 b = 18.3955 에서 시작\n",
      "실제 y값 : [81 93 91 97]\n",
      "예측된 y값 : [ 43.32029077  68.24504358  93.1697964  118.09454921]\n",
      "경사항강법을 이용하여 a로 편미분한 값 3.6979639633453303\n",
      "경사항강법을 이용하여 b로 편미분한 값 -19.585160019969564\n",
      "epoch=27, 업데이트 된 a =12.3514, 업데이트 된 절편 b=18.9831\n",
      "\n",
      "28 번째 --------------------------------------------------------------------------------\n",
      "●a = 12.3514, 절편 b = 18.9831 에서 시작\n",
      "실제 y값 : [81 93 91 97]\n",
      "예측된 y값 : [ 43.68596773  68.38884271  93.09171768 117.79459266]\n",
      "경사항강법을 이용하여 a로 편미분한 값 2.9171768353145637\n",
      "경사항강법을 이용하여 b로 편미분한 값 -19.519439607775\n",
      "epoch=28, 업데이트 된 a =12.2639, 업데이트 된 절편 b=19.5687\n",
      "\n",
      "29 번째 --------------------------------------------------------------------------------\n",
      "●a = 12.2639, 절편 b = 19.5687 에서 시작\n",
      "실제 y값 : [81 93 91 97]\n",
      "예측된 y값 : [ 44.09652031  68.62436468  93.15220904 117.68005341]\n",
      "경사항강법을 이용하여 a로 편미분한 값 3.5220904140808926\n",
      "경사항강법을 이용하여 b로 편미분한 값 -19.22342628190286\n",
      "epoch=29, 업데이트 된 a =12.1583, 업데이트 된 절편 b=20.1454\n"
     ]
    }
   ],
   "source": [
    "a_gradient_desc = []\n",
    "a_update = []\n",
    "\n",
    "for i in range(epochs):\n",
    "    print()\n",
    "    print(i,'번째','-'*80)\n",
    "    print('●a = %.04f, 절편 b = %.04f 에서 시작' %(a, b))\n",
    "    \n",
    "    y_pred = a * x_data + b\n",
    "    print('실제 y값 :',y_data)\n",
    "    print('예측된 y값 :',y_pred)\n",
    "    \n",
    "    error = y_data - y_pred\n",
    "        \n",
    "    a_diff = -(2/len(x_data)) * sum(x_data * (error))  # a로 편미분\n",
    "    print('경사항강법을 이용하여 a로 편미분한 값', a_diff)\n",
    "    a_gradient_desc.append(a_diff)\n",
    "    \n",
    "    b_diff = -(2/len(x_data)) * sum(error)  # b로 편미분\n",
    "    print('경사항강법을 이용하여 b로 편미분한 값', b_diff)\n",
    "    \n",
    "    a_update.append(a)\n",
    "    \n",
    "    a = a - lr * a_diff\n",
    "    b = b - lr * b_diff\n",
    "        \n",
    "    print('epoch=%.f, 업데이트 된 a =%.04f, 업데이트 된 절편 b=%.04f' %(i,a,b))"
   ]
  },
  {
   "cell_type": "code",
   "execution_count": 13,
   "id": "aee6e5c9",
   "metadata": {},
   "outputs": [
    {
     "name": "stdout",
     "output_type": "stream",
     "text": [
      "30 개의 a 편미분 값 생성\n",
      "[-28.0, 31.70000000000003, -19.138000000000034, 24.012080000000083, -12.752504800000153, 18.432820688000092, -8.157014145279959, 14.378453038956764, -4.855222484871788, 11.42692631091954, -2.488327648733346, 9.273106082971594, -0.7969370286174495, 7.696384137855688, 0.40647280120387563, 6.537261636243002, 1.2574667276876852, 5.680419639592984, 1.8540457342559762, 5.042479739333103, 2.2670536717502614, 4.5631554545634, 2.5477009552526226, 4.1988550264777444, 2.7330039080297013, 3.9180564794182544, 2.8497171976796807, 3.6979639633453303, 2.9171768353145637, 3.5220904140808926]\n"
     ]
    }
   ],
   "source": [
    "print(len(a_gradient_desc),\"개의 a 편미분 값 생성\")\n",
    "print(a_gradient_desc)"
   ]
  },
  {
   "cell_type": "code",
   "execution_count": 14,
   "id": "f8df7bf9",
   "metadata": {},
   "outputs": [
    {
     "name": "stdout",
     "output_type": "stream",
     "text": [
      "30 개의 a 값 생성\n",
      "[15, 15.84, 14.889, 15.463140000000001, 14.742777599999998, 15.125352744000002, 14.57236812336, 14.817078547718399, 14.385724956549696, 14.531381631095849, 14.188573841768262, 14.263223671230262, 13.985030488741115, 14.008938599599638, 13.778047075463967, 13.76585289142785, 13.56973504234056, 13.532011040509929, 13.36159845132214, 13.30597707929446, 13.154702687114467, 13.086691076961959, 12.949796413325057, 12.873365384667478, 12.747399733873145, 12.665409616632253, 12.547867922249706, 12.462376406319315, 12.351437487418956, 12.263922182359519]\n"
     ]
    }
   ],
   "source": [
    "print(len(a_update),\"개의 a 값 생성\")\n",
    "print(a_update)"
   ]
  },
  {
   "cell_type": "code",
   "execution_count": 15,
   "id": "65d2c041",
   "metadata": {},
   "outputs": [
    {
     "data": {
      "text/plain": [
       "[<matplotlib.lines.Line2D at 0x203f3605908>]"
      ]
     },
     "execution_count": 15,
     "metadata": {},
     "output_type": "execute_result"
    },
    {
     "data": {
      "image/png": "[encoded data removed]",
      "text/plain": [
       "<Figure size 360x360 with 1 Axes>"
      ]
     },
     "metadata": {
      "needs_background": "light"
     },
     "output_type": "display_data"
    }
   ],
   "source": [
    "plt.rcParams['figure.figsize'] = (5,5)\n",
    "plt.xlabel('a_gradient_desc')\n",
    "plt.ylabel('a_update')\n",
    "plt.plot(a_gradient_desc, a_update, marker='.')"
   ]
  },
  {
   "cell_type": "code",
   "execution_count": 16,
   "id": "f7b41828",
   "metadata": {},
   "outputs": [],
   "source": [
    "import matplotlib.font_manager  "
   ]
  },
  {
   "cell_type": "code",
   "execution_count": 17,
   "id": "64c943af",
   "metadata": {},
   "outputs": [],
   "source": [
    "font_path = \"C:\\Windows\\Fonts\\gulim.ttc\"\n",
    "font_name = matplotlib.font_manager.FontProperties(fname=font_path).get_name()\n",
    "plt.rc('font', family=font_name) "
   ]
  },
  {
   "cell_type": "code",
   "execution_count": 18,
   "id": "6abb33f8",
   "metadata": {},
   "outputs": [
    {
     "data": {
      "image/png": "[encoded data removed]",
      "text/plain": [
       "<Figure size 504x288 with 1 Axes>"
      ]
     },
     "metadata": {
      "needs_background": "light"
     },
     "output_type": "display_data"
    }
   ],
   "source": [
    "plt.rcParams[\"figure.figsize\"] = (7,4)  \n",
    "plt.title(\"공부한 시간에 따른 성적\")\n",
    "plt.xlabel('공부한 시간')\n",
    "plt.ylabel('성적')\n",
    "\n",
    "plt.scatter(x_data, y_data) \n",
    "plt.plot([min(x_data), max(x_data)], [min(y_pred), max(y_pred)]) \n",
    "plt.show()"
   ]
  },
  {
   "cell_type": "code",
   "execution_count": null,
   "id": "b48a4865",
   "metadata": {},
   "outputs": [],
   "source": []
  }
 ],
 "metadata": {
  "kernelspec": {
   "display_name": "Python 3",
   "language": "python",
   "name": "python3"
  },
  "language_info": {
   "codemirror_mode": {
    "name": "ipython",
    "version": 3
   },
   "file_extension": ".py",
   "mimetype": "text/x-python",
   "name": "python",
   "nbconvert_exporter": "python",
   "pygments_lexer": "ipython3",
   "version": "3.7.10"
  }
 },
 "nbformat": 4,
 "nbformat_minor": 5
}
