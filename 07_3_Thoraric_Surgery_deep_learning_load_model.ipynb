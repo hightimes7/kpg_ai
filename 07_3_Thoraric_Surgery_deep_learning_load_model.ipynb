{
 "cells": [
  {
   "cell_type": "code",
   "execution_count": 1,
   "id": "722f9eeb",
   "metadata": {},
   "outputs": [
    {
     "name": "stderr",
     "output_type": "stream",
     "text": [
      "Using TensorFlow backend.\n"
     ]
    }
   ],
   "source": [
    "from tensorflow import keras\n",
    "from tensorflow.keras import layers\n",
    "from keras.models import load_model"
   ]
  },
  {
   "cell_type": "code",
   "execution_count": 2,
   "id": "5e61eaba",
   "metadata": {},
   "outputs": [],
   "source": [
    "import numpy as np"
   ]
  },
  {
   "cell_type": "code",
   "execution_count": 3,
   "id": "96476f1a",
   "metadata": {},
   "outputs": [],
   "source": [
    "model = keras.models.load_model('ThoraricSurgery_deeplearning_result.h5')"
   ]
  },
  {
   "cell_type": "code",
   "execution_count": 4,
   "id": "4df3c3d5",
   "metadata": {},
   "outputs": [
    {
     "name": "stdout",
     "output_type": "stream",
     "text": [
      "Model: \"sequential\"\n",
      "_________________________________________________________________\n",
      "Layer (type)                 Output Shape              Param #   \n",
      "=================================================================\n",
      "dense (Dense)                (None, 30)                540       \n",
      "_________________________________________________________________\n",
      "dense_1 (Dense)              (None, 1)                 31        \n",
      "=================================================================\n",
      "Total params: 571\n",
      "Trainable params: 571\n",
      "Non-trainable params: 0\n",
      "_________________________________________________________________\n"
     ]
    }
   ],
   "source": [
    "model.summary()\n",
    "\n",
    "# Output Shape : 은닉측 또는 최종 출력층에 있는 노드 수\n",
    "# Param : 은닉층 또는 출력층 노드 수 * input 노드 개수 + 은닉층 또는 출력층 노드 수(bias)"
   ]
  },
  {
   "cell_type": "code",
   "execution_count": 5,
   "id": "11472d6e",
   "metadata": {},
   "outputs": [
    {
     "name": "stdout",
     "output_type": "stream",
     "text": [
      "[[0.03467136]]\n"
     ]
    }
   ],
   "source": [
    "kim = np.array([[293,1,3.8,2.8,0,0,0,0,0,0,12,0,0,0,1,0,62]])\n",
    "print(model.predict(kim))"
   ]
  },
  {
   "cell_type": "code",
   "execution_count": 6,
   "id": "479598d3",
   "metadata": {},
   "outputs": [
    {
     "name": "stdout",
     "output_type": "stream",
     "text": [
      "[[0.10510628]]\n"
     ]
    }
   ],
   "source": [
    "park = np.array([[197,3,2.84,2.24,1,1,1,0,0,0,12,0,0,0,1,0,68]])\n",
    "print(model.predict(park))"
   ]
  },
  {
   "cell_type": "code",
   "execution_count": null,
   "id": "0e1acb6e",
   "metadata": {},
   "outputs": [],
   "source": []
  }
 ],
 "metadata": {
  "kernelspec": {
   "display_name": "Python 3",
   "language": "python",
   "name": "python3"
  },
  "language_info": {
   "codemirror_mode": {
    "name": "ipython",
    "version": 3
   },
   "file_extension": ".py",
   "mimetype": "text/x-python",
   "name": "python",
   "nbconvert_exporter": "python",
   "pygments_lexer": "ipython3",
   "version": "3.7.10"
  }
 },
 "nbformat": 4,
 "nbformat_minor": 5
}
