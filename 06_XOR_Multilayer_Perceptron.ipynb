{
 "cells": [
  {
   "cell_type": "markdown",
   "id": "6bf54a83",
   "metadata": {},
   "source": [
    "### 다층 퍼셉트론 (Multilayer Perceptron)"
   ]
  },
  {
   "cell_type": "code",
   "execution_count": 1,
   "id": "b883bae8",
   "metadata": {},
   "outputs": [],
   "source": [
    "import numpy as np"
   ]
  },
  {
   "cell_type": "code",
   "execution_count": 2,
   "id": "8c49360f",
   "metadata": {},
   "outputs": [],
   "source": [
    "w11 = np.array([-2,-2])\n",
    "w12 = np.array([2,2])\n",
    "w2 = np.array([1,1])\n",
    "b1 = 3\n",
    "b2 = -1\n",
    "b3 = -1"
   ]
  },
  {
   "cell_type": "code",
   "execution_count": 3,
   "id": "a3e4d6a2",
   "metadata": {},
   "outputs": [],
   "source": [
    "def MLP(x, w, b):\n",
    "    y = np.sum(w * x) + b\n",
    "    print('퍼셉트론 통과 :',y,',', end=' ')\n",
    "    if y <= 0:\n",
    "        return 0\n",
    "    else :\n",
    "        return 1"
   ]
  },
  {
   "cell_type": "code",
   "execution_count": 4,
   "id": "116a035f",
   "metadata": {},
   "outputs": [],
   "source": [
    "def NAND(x1, x2):\n",
    "    return MLP(np.array([x1,x2]), w11, b1)\n",
    "\n",
    "def OR(x1, x2):\n",
    "    return MLP(np.array([x1,x2]), w12, b2)\n",
    "\n",
    "def AND(x1, x2):\n",
    "    return MLP(np.array([x1,x2]), w2, b3)\n",
    "\n",
    "def XOR(x1, x2):\n",
    "    return AND(NAND(x1, x2), OR(x1, x2))"
   ]
  },
  {
   "cell_type": "code",
   "execution_count": 5,
   "id": "1ae2c062",
   "metadata": {},
   "outputs": [
    {
     "name": "stdout",
     "output_type": "stream",
     "text": [
      "입력 값: (0, 0)\n",
      "퍼셉트론 통과 : 3 , 퍼셉트론 통과 : -1 , 퍼셉트론 통과 : 0 , --> 최종 출력 값: 0\n",
      "----------------------------------------------------------------------------------------------------\n",
      "입력 값: (1, 0)\n",
      "퍼셉트론 통과 : 1 , 퍼셉트론 통과 : 1 , 퍼셉트론 통과 : 1 , --> 최종 출력 값: 1\n",
      "----------------------------------------------------------------------------------------------------\n",
      "입력 값: (0, 1)\n",
      "퍼셉트론 통과 : 1 , 퍼셉트론 통과 : 1 , 퍼셉트론 통과 : 1 , --> 최종 출력 값: 1\n",
      "----------------------------------------------------------------------------------------------------\n",
      "입력 값: (1, 1)\n",
      "퍼셉트론 통과 : -1 , 퍼셉트론 통과 : 3 , 퍼셉트론 통과 : 0 , --> 최종 출력 값: 0\n",
      "----------------------------------------------------------------------------------------------------\n"
     ]
    }
   ],
   "source": [
    "if __name__=='__main__':\n",
    "    for x in [(0,0),(1,0),(0,1),(1,1)]:        \n",
    "        print('입력 값:',x)\n",
    "        #print('x[0]:',x[0],'x[1]:',x[1])\n",
    "        y = XOR(x[0], x[1])\n",
    "        #print('입력 값: ' + str(x)+ \" 출력 값: \"+str(y))\n",
    "        print('--> 최종 출력 값: ' +str(y))\n",
    "        print('-'*100)"
   ]
  },
  {
   "cell_type": "code",
   "execution_count": null,
   "id": "dba99a3a",
   "metadata": {},
   "outputs": [],
   "source": []
  }
 ],
 "metadata": {
  "kernelspec": {
   "display_name": "Python 3",
   "language": "python",
   "name": "python3"
  },
  "language_info": {
   "codemirror_mode": {
    "name": "ipython",
    "version": 3
   },
   "file_extension": ".py",
   "mimetype": "text/x-python",
   "name": "python",
   "nbconvert_exporter": "python",
   "pygments_lexer": "ipython3",
   "version": "3.7.10"
  }
 },
 "nbformat": 4,
 "nbformat_minor": 5
}
