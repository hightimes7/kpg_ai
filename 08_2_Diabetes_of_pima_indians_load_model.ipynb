{
 "cells": [
  {
   "cell_type": "code",
   "execution_count": 1,
   "id": "61e3ab61",
   "metadata": {},
   "outputs": [
    {
     "name": "stderr",
     "output_type": "stream",
     "text": [
      "Using TensorFlow backend.\n"
     ]
    }
   ],
   "source": [
    "from tensorflow import keras\n",
    "from tensorflow.keras import layers\n",
    "from keras.models import load_model"
   ]
  },
  {
   "cell_type": "code",
   "execution_count": null,
   "id": "86fe0f37",
   "metadata": {},
   "outputs": [],
   "source": [
    "# Param  (은닉층 또는 출력층의 노드의 수) * (input 노드 개수) + (은닉층 또는 출력층의 노드의 수)\n",
    "# dense  12 * 8 + 12\n",
    "# dense_1  8 * 12 + 8\n",
    "# dense_2  1 * 8 + 1"
   ]
  },
  {
   "cell_type": "code",
   "execution_count": 2,
   "id": "5e4057cd",
   "metadata": {},
   "outputs": [
    {
     "name": "stdout",
     "output_type": "stream",
     "text": [
      "Model: \"sequential\"\n",
      "_________________________________________________________________\n",
      "Layer (type)                 Output Shape              Param #   \n",
      "=================================================================\n",
      "dense (Dense)                (None, 12)                108       \n",
      "_________________________________________________________________\n",
      "dense_1 (Dense)              (None, 8)                 104       \n",
      "_________________________________________________________________\n",
      "dense_2 (Dense)              (None, 1)                 9         \n",
      "=================================================================\n",
      "Total params: 221\n",
      "Trainable params: 221\n",
      "Non-trainable params: 0\n",
      "_________________________________________________________________\n"
     ]
    }
   ],
   "source": [
    "model = keras.models.load_model('Diabetes_of_pima_indians_deeplearning_model.h5')\n",
    "model.summary()"
   ]
  },
  {
   "cell_type": "code",
   "execution_count": 3,
   "id": "8f4d174a",
   "metadata": {},
   "outputs": [],
   "source": [
    "import numpy as np"
   ]
  },
  {
   "cell_type": "code",
   "execution_count": 4,
   "id": "424100ba",
   "metadata": {},
   "outputs": [
    {
     "name": "stdout",
     "output_type": "stream",
     "text": [
      "Kim  당뇨병 가능성 예측 : 24.17 %\n",
      "Park 당뇨병 가능성 예측 : 42.33 %\n",
      "Choi 당뇨병 가능성 예측 : 99.31 %\n"
     ]
    }
   ],
   "source": [
    "kim = np.array([[3, 78, 50, 32, 88, 31, 0.248, 26]])\n",
    "park = np.array([[10, 115, 0, 0, 0, 35.3, 0.134, 29]])\n",
    "choi = np.array([[2, 197, 70, 45, 543, 30.5, 0.158, 53]])\n",
    "\n",
    "test_kim  = model.predict(kim)*100\n",
    "test_park = model.predict(park)*100\n",
    "test_choi = model.predict(choi)*100\n",
    "print(\"Kim  당뇨병 가능성 예측 : %.2f\" %test_kim, \"%\")\n",
    "print(\"Park 당뇨병 가능성 예측 : %.2f\" %test_park, \"%\")\n",
    "print(\"Choi 당뇨병 가능성 예측 : %.2f\" %test_choi, \"%\")"
   ]
  },
  {
   "cell_type": "code",
   "execution_count": null,
   "id": "d22c3906",
   "metadata": {},
   "outputs": [],
   "source": []
  }
 ],
 "metadata": {
  "kernelspec": {
   "display_name": "Python 3",
   "language": "python",
   "name": "python3"
  },
  "language_info": {
   "codemirror_mode": {
    "name": "ipython",
    "version": 3
   },
   "file_extension": ".py",
   "mimetype": "text/x-python",
   "name": "python",
   "nbconvert_exporter": "python",
   "pygments_lexer": "ipython3",
   "version": "3.7.10"
  }
 },
 "nbformat": 4,
 "nbformat_minor": 5
}
