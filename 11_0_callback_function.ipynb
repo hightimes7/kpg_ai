{
 "cells": [
  {
   "cell_type": "code",
   "execution_count": 1,
   "id": "15898368",
   "metadata": {},
   "outputs": [
    {
     "name": "stdout",
     "output_type": "stream",
     "text": [
      "None\n",
      "<class 'NoneType'>\n"
     ]
    }
   ],
   "source": [
    "cb = None\n",
    "print(cb)\n",
    "print(type(cb))"
   ]
  },
  {
   "cell_type": "code",
   "execution_count": 2,
   "id": "c6bf80b1",
   "metadata": {},
   "outputs": [],
   "source": [
    "def get_function(a, cb = None):\n",
    "    print(\"a :\", a)\n",
    "    print(\"cb :\", cb)\n",
    "    print(\"type(cb) :\", type(cb))\n",
    "    print(\"-\"*50)\n",
    "    \n",
    "    print(\"▷ str(type(cb)) :\", str(type(cb)))\n",
    "    print(\"▷ cb != None :\", cb != None)\n",
    "    \n",
    "    if(str(type(cb)) == \"<class 'function'>\") :\n",
    "        print(\"● 1) 현재 cb class는 function 이다\")\n",
    "        cb() \n",
    "        \n",
    "    if cb != None and str(type(cb)) == \"<class 'function'>\":\n",
    "        print(\"● 2) 현재 cb class는 function 이다\")\n",
    "        cb()\n",
    "        \n",
    "def callback():\n",
    "    print(\"★ 지금 이 부분은 callback 함수에서 출력되고 있다.\")\n"
   ]
  },
  {
   "cell_type": "code",
   "execution_count": 3,
   "id": "bedb1b65",
   "metadata": {},
   "outputs": [
    {
     "name": "stdout",
     "output_type": "stream",
     "text": [
      "a : 1\n",
      "cb : None\n",
      "type(cb) : <class 'NoneType'>\n",
      "--------------------------------------------------\n",
      "▷ str(type(cb)) : <class 'NoneType'>\n",
      "▷ cb != None : False\n"
     ]
    }
   ],
   "source": [
    "get_function(1)"
   ]
  },
  {
   "cell_type": "code",
   "execution_count": 4,
   "id": "60db58ad",
   "metadata": {},
   "outputs": [
    {
     "name": "stdout",
     "output_type": "stream",
     "text": [
      "a : 2\n",
      "cb : <function callback at 0x0000027804724B88>\n",
      "type(cb) : <class 'function'>\n",
      "--------------------------------------------------\n",
      "▷ str(type(cb)) : <class 'function'>\n",
      "▷ cb != None : True\n",
      "● 1) 현재 cb class는 function 이다\n",
      "★ 지금 이 부분은 callback 함수에서 출력되고 있다.\n",
      "● 2) 현재 cb class는 function 이다\n",
      "★ 지금 이 부분은 callback 함수에서 출력되고 있다.\n"
     ]
    }
   ],
   "source": [
    "get_function(2, callback)"
   ]
  },
  {
   "cell_type": "code",
   "execution_count": null,
   "id": "a12d6dbe",
   "metadata": {},
   "outputs": [],
   "source": []
  }
 ],
 "metadata": {
  "kernelspec": {
   "display_name": "Python 3",
   "language": "python",
   "name": "python3"
  },
  "language_info": {
   "codemirror_mode": {
    "name": "ipython",
    "version": 3
   },
   "file_extension": ".py",
   "mimetype": "text/x-python",
   "name": "python",
   "nbconvert_exporter": "python",
   "pygments_lexer": "ipython3",
   "version": "3.7.10"
  }
 },
 "nbformat": 4,
 "nbformat_minor": 5
}
