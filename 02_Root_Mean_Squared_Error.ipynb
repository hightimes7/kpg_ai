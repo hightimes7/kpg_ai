{
 "cells": [
  {
   "cell_type": "markdown",
   "id": "60d5a4b0",
   "metadata": {},
   "source": [
    "### 평균 제곱 오차(Mean Square Error)"
   ]
  },
  {
   "cell_type": "code",
   "execution_count": 1,
   "id": "c1eccbc6",
   "metadata": {},
   "outputs": [],
   "source": [
    "import numpy as np"
   ]
  },
  {
   "cell_type": "code",
   "execution_count": 2,
   "id": "e72110aa",
   "metadata": {},
   "outputs": [],
   "source": [
    "# 기상의 기울기 a와 y절편 b\n",
    "fake_a_b = [3, 76]"
   ]
  },
  {
   "cell_type": "code",
   "execution_count": 3,
   "id": "334acb02",
   "metadata": {},
   "outputs": [],
   "source": [
    "data = [[2,81],[4,93],[6,91],[8,97]]\n",
    "x = [i[0] for i in data]\n",
    "y = [i[1] for i in data]"
   ]
  },
  {
   "cell_type": "code",
   "execution_count": 4,
   "id": "9bf8eb00",
   "metadata": {},
   "outputs": [
    {
     "data": {
      "text/plain": [
       "(4, 2)"
      ]
     },
     "execution_count": 4,
     "metadata": {},
     "output_type": "execute_result"
    }
   ],
   "source": [
    "np.shape(data)"
   ]
  },
  {
   "cell_type": "code",
   "execution_count": 5,
   "id": "028f5634",
   "metadata": {},
   "outputs": [
    {
     "name": "stdout",
     "output_type": "stream",
     "text": [
      "공부한 시간: [2, 4, 6, 8]\n",
      "실제 점수: [81, 93, 91, 97]\n"
     ]
    }
   ],
   "source": [
    "print('공부한 시간:',x)\n",
    "print('실제 점수:',y)"
   ]
  },
  {
   "cell_type": "code",
   "execution_count": 6,
   "id": "551e5975",
   "metadata": {},
   "outputs": [],
   "source": [
    "# y=ax+b 에 a 와 b 값을 대입하여 결과를 출력\n",
    "def predict(x):\n",
    "    return fake_a_b[0]*x + fake_a_b[1]"
   ]
  },
  {
   "cell_type": "code",
   "execution_count": 7,
   "id": "00568b23",
   "metadata": {},
   "outputs": [],
   "source": [
    "# MSE\n",
    "def mse(y, y_hat):\n",
    "    return ((y-y_hat)**2).mean()"
   ]
  },
  {
   "cell_type": "code",
   "execution_count": 8,
   "id": "5a32fd30",
   "metadata": {},
   "outputs": [],
   "source": [
    "# MSE 함수를 각 y 값에 대입하여 최종 값\n",
    "def mse_val(y, predict_result):\n",
    "    return mse(np.array(y), np.array(predict_result))"
   ]
  },
  {
   "cell_type": "code",
   "execution_count": 9,
   "id": "faa37944",
   "metadata": {},
   "outputs": [
    {
     "data": {
      "text/plain": [
       "array([81, 93, 91, 97])"
      ]
     },
     "execution_count": 9,
     "metadata": {},
     "output_type": "execute_result"
    }
   ],
   "source": [
    "np.array(y)"
   ]
  },
  {
   "cell_type": "code",
   "execution_count": 10,
   "id": "eddf2827",
   "metadata": {},
   "outputs": [
    {
     "name": "stdout",
     "output_type": "stream",
     "text": [
      "공부한 시간=2, 실제 점수=81, 예측 점수=82\n",
      "공부한 시간=4, 실제 점수=93, 예측 점수=88\n",
      "공부한 시간=6, 실제 점수=91, 예측 점수=94\n",
      "공부한 시간=8, 실제 점수=97, 예측 점수=100\n"
     ]
    }
   ],
   "source": [
    "predict_result = []\n",
    "\n",
    "for i in range(len(x)):\n",
    "    predict_result.append(predict(x[i]))\n",
    "    print('공부한 시간=%.f, 실제 점수=%.f, 예측 점수=%.f' %(x[i], y[i], predict(x[i])))"
   ]
  },
  {
   "cell_type": "code",
   "execution_count": 11,
   "id": "011bbfc3",
   "metadata": {},
   "outputs": [
    {
     "data": {
      "text/plain": [
       "[82, 88, 94, 100]"
      ]
     },
     "execution_count": 11,
     "metadata": {},
     "output_type": "execute_result"
    }
   ],
   "source": [
    "predict_result"
   ]
  },
  {
   "cell_type": "code",
   "execution_count": 12,
   "id": "46332b64",
   "metadata": {},
   "outputs": [
    {
     "name": "stdout",
     "output_type": "stream",
     "text": [
      "mse 최종값: 11.0\n"
     ]
    }
   ],
   "source": [
    "print('mse 최종값:', mse_val(y, predict_result))"
   ]
  },
  {
   "cell_type": "code",
   "execution_count": 13,
   "id": "9c4ae1d3",
   "metadata": {},
   "outputs": [],
   "source": [
    "# 평균 제곱근 오차 (Root Mean Squared Error) 구하기"
   ]
  },
  {
   "cell_type": "code",
   "execution_count": 14,
   "id": "cc1f4320",
   "metadata": {},
   "outputs": [
    {
     "name": "stdout",
     "output_type": "stream",
     "text": [
      "rmse 최종값: 3.3166247903554\n"
     ]
    }
   ],
   "source": [
    "print('rmse 최종값:', np.sqrt(mse_val(predict_result,y)))"
   ]
  },
  {
   "cell_type": "code",
   "execution_count": null,
   "id": "460f3113",
   "metadata": {},
   "outputs": [],
   "source": []
  }
 ],
 "metadata": {
  "kernelspec": {
   "display_name": "Python 3",
   "language": "python",
   "name": "python3"
  },
  "language_info": {
   "codemirror_mode": {
    "name": "ipython",
    "version": 3
   },
   "file_extension": ".py",
   "mimetype": "text/x-python",
   "name": "python",
   "nbconvert_exporter": "python",
   "pygments_lexer": "ipython3",
   "version": "3.7.10"
  }
 },
 "nbformat": 4,
 "nbformat_minor": 5
}
